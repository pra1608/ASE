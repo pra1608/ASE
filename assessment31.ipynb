{
  "nbformat": 4,
  "nbformat_minor": 0,
  "metadata": {
    "colab": {
      "name": "assessment31.ipynb",
      "provenance": [],
      "authorship_tag": "ABX9TyMUdG4sFTJjsi66jYiL4IY6",
      "include_colab_link": true
    },
    "kernelspec": {
      "name": "python3",
      "display_name": "Python 3"
    }
  },
  "cells": [
    {
      "cell_type": "markdown",
      "metadata": {
        "id": "view-in-github",
        "colab_type": "text"
      },
      "source": [
        "<a href=\"https://colab.research.google.com/github/pra1608/ASE/blob/master/assessment31.ipynb\" target=\"_parent\"><img src=\"https://colab.research.google.com/assets/colab-badge.svg\" alt=\"Open In Colab\"/></a>"
      ]
    },
    {
      "cell_type": "code",
      "metadata": {
        "id": "90Uv8itD-cS6"
      },
      "source": [
        "import pandas as pd\r\n",
        "import numpy as np\r\n",
        "import matplotlib.pyplot as plt\r\n",
        "from sklearn.preprocessing import StandardScaler\r\n",
        "from hurst import compute_Hc, random_walk"
      ],
      "execution_count": 119,
      "outputs": []
    },
    {
      "cell_type": "code",
      "metadata": {
        "colab": {
          "base_uri": "https://localhost:8080/"
        },
        "id": "CP9COfVj0MHB",
        "outputId": "3aa1849f-a9e0-44fb-def1-f1f93c2dd684"
      },
      "source": [
        "!pip install hurst\r\n"
      ],
      "execution_count": 49,
      "outputs": [
        {
          "output_type": "stream",
          "text": [
            "Collecting hurst\n",
            "  Downloading https://files.pythonhosted.org/packages/02/4f/d3471ce0dca03a21d4c6640da07a6040c9cc800a937233086b6cea6a7dc2/hurst-0.0.5-py3-none-any.whl\n",
            "Requirement already satisfied: numpy>=1.10 in /usr/local/lib/python3.6/dist-packages (from hurst) (1.19.4)\n",
            "Requirement already satisfied: pandas>=0.18 in /usr/local/lib/python3.6/dist-packages (from hurst) (1.1.5)\n",
            "Requirement already satisfied: pytz>=2017.2 in /usr/local/lib/python3.6/dist-packages (from pandas>=0.18->hurst) (2018.9)\n",
            "Requirement already satisfied: python-dateutil>=2.7.3 in /usr/local/lib/python3.6/dist-packages (from pandas>=0.18->hurst) (2.8.1)\n",
            "Requirement already satisfied: six>=1.5 in /usr/local/lib/python3.6/dist-packages (from python-dateutil>=2.7.3->pandas>=0.18->hurst) (1.15.0)\n",
            "Installing collected packages: hurst\n",
            "Successfully installed hurst-0.0.5\n"
          ],
          "name": "stdout"
        }
      ]
    },
    {
      "cell_type": "code",
      "metadata": {
        "id": "gndF7N4fuYBa"
      },
      "source": [
        "df = pd.read_csv('/content/intern_dataset.csv')\r\n",
        "df = df.dropna()\r\n",
        "pd.to_datetime(df['Time'])\r\n",
        "scaler = StandardScaler()\r\n",
        "\r\n",
        "X_train = scaler.fit_transform(df[['Signal1','Signal2']])"
      ],
      "execution_count": 120,
      "outputs": []
    },
    {
      "cell_type": "code",
      "metadata": {
        "colab": {
          "base_uri": "https://localhost:8080/"
        },
        "id": "cPpiI9F829ah",
        "outputId": "40f0b615-55bd-4f89-cef7-4d2246d2b470"
      },
      "source": [
        "X_train"
      ],
      "execution_count": 121,
      "outputs": [
        {
          "output_type": "execute_result",
          "data": {
            "text/plain": [
              "array([[ 0.20107393,  1.77717801],\n",
              "       [ 0.10679015,  1.77709809],\n",
              "       [ 0.01185079,  1.7770122 ],\n",
              "       ...,\n",
              "       [ 0.28686992, -0.95549386],\n",
              "       [ 0.2867768 , -0.95554836],\n",
              "       [ 0.28667569, -0.95561179]])"
            ]
          },
          "metadata": {
            "tags": []
          },
          "execution_count": 121
        }
      ]
    },
    {
      "cell_type": "code",
      "metadata": {
        "id": "BKlblq-kwZNB"
      },
      "source": [
        "t = pd.to_datetime(df['Time'])"
      ],
      "execution_count": 122,
      "outputs": []
    },
    {
      "cell_type": "code",
      "metadata": {
        "colab": {
          "base_uri": "https://localhost:8080/"
        },
        "id": "wotiLnM82_wf",
        "outputId": "45170973-f3a3-40e7-924f-a1d940f4e928"
      },
      "source": [
        "X_train.shape"
      ],
      "execution_count": 90,
      "outputs": [
        {
          "output_type": "execute_result",
          "data": {
            "text/plain": [
              "(912000, 2)"
            ]
          },
          "metadata": {
            "tags": []
          },
          "execution_count": 90
        }
      ]
    },
    {
      "cell_type": "code",
      "metadata": {
        "colab": {
          "base_uri": "https://localhost:8080/",
          "height": 282
        },
        "id": "tP2x7Qy22tPr",
        "outputId": "9c32fd04-238c-43eb-d08d-55e5ff996c39"
      },
      "source": [
        "plt.plot(t[0:10],X_train[0:10,0])"
      ],
      "execution_count": 81,
      "outputs": [
        {
          "output_type": "execute_result",
          "data": {
            "text/plain": [
              "[<matplotlib.lines.Line2D at 0x7ff6e2722358>]"
            ]
          },
          "metadata": {
            "tags": []
          },
          "execution_count": 81
        },
        {
          "output_type": "display_data",
          "data": {
            "image/png": "[encoded data removed]",
            "text/plain": [
              "<Figure size 432x288 with 1 Axes>"
            ]
          },
          "metadata": {
            "tags": [],
            "needs_background": "light"
          }
        }
      ]
    },
    {
      "cell_type": "code",
      "metadata": {
        "colab": {
          "base_uri": "https://localhost:8080/",
          "height": 282
        },
        "id": "dEh5XaLEup53",
        "outputId": "3ed8ccae-15d0-423d-a31f-85f81c2e15ee"
      },
      "source": [
        "plt.scatter(X_train[100:400,1],X_train[100:400,0])"
      ],
      "execution_count": 123,
      "outputs": [
        {
          "output_type": "execute_result",
          "data": {
            "text/plain": [
              "<matplotlib.collections.PathCollection at 0x7ff6d15d96a0>"
            ]
          },
          "metadata": {
            "tags": []
          },
          "execution_count": 123
        },
        {
          "output_type": "display_data",
          "data": {
            "image/png": "[encoded data removed]",
            "text/plain": [
              "<Figure size 432x288 with 1 Axes>"
            ]
          },
          "metadata": {
            "tags": [],
            "needs_background": "light"
          }
        }
      ]
    },
    {
      "cell_type": "code",
      "metadata": {
        "colab": {
          "base_uri": "https://localhost:8080/"
        },
        "id": "sQif2RAYxMPR",
        "outputId": "c67ccbeb-e788-4425-d643-da08be89c349"
      },
      "source": [
        "X_train[:,0]"
      ],
      "execution_count": 62,
      "outputs": [
        {
          "output_type": "execute_result",
          "data": {
            "text/plain": [
              "array([0.20107393, 0.10679015, 0.01185079, ..., 0.28686992, 0.2867768 ,\n",
              "       0.28667569])"
            ]
          },
          "metadata": {
            "tags": []
          },
          "execution_count": 62
        }
      ]
    },
    {
      "cell_type": "code",
      "metadata": {
        "colab": {
          "base_uri": "https://localhost:8080/",
          "height": 282
        },
        "id": "0T89FPYPxUSZ",
        "outputId": "14f15dd6-5ff3-43e3-8a66-8f7e7e2b3ad4"
      },
      "source": [
        "plt.plot(X_train[:,0])\r\n"
      ],
      "execution_count": 87,
      "outputs": [
        {
          "output_type": "execute_result",
          "data": {
            "text/plain": [
              "[<matplotlib.lines.Line2D at 0x7ff6e25706d8>]"
            ]
          },
          "metadata": {
            "tags": []
          },
          "execution_count": 87
        },
        {
          "output_type": "display_data",
          "data": {
            "image/png": "[encoded data removed]",
            "text/plain": [
              "<Figure size 432x288 with 1 Axes>"
            ]
          },
          "metadata": {
            "tags": [],
            "needs_background": "light"
          }
        }
      ]
    },
    {
      "cell_type": "code",
      "metadata": {
        "colab": {
          "base_uri": "https://localhost:8080/",
          "height": 282
        },
        "id": "48HUaGMt4uDF",
        "outputId": "f04b3409-18ed-4ea9-de08-10e6a2179557"
      },
      "source": [
        "plt.plot(X_train[:,1])"
      ],
      "execution_count": 89,
      "outputs": [
        {
          "output_type": "execute_result",
          "data": {
            "text/plain": [
              "[<matplotlib.lines.Line2D at 0x7ff6e2464cf8>]"
            ]
          },
          "metadata": {
            "tags": []
          },
          "execution_count": 89
        },
        {
          "output_type": "display_data",
          "data": {
            "image/png": "[encoded data removed]",
            "text/plain": [
              "<Figure size 432x288 with 1 Axes>"
            ]
          },
          "metadata": {
            "tags": [],
            "needs_background": "light"
          }
        }
      ]
    },
    {
      "cell_type": "code",
      "metadata": {
        "id": "HlsmvZ8oygTn"
      },
      "source": [
        "H, c, data = compute_Hc(X_train[:,1])"
      ],
      "execution_count": 96,
      "outputs": []
    },
    {
      "cell_type": "code",
      "metadata": {
        "colab": {
          "base_uri": "https://localhost:8080/",
          "height": 300
        },
        "id": "ULfYga197lZc",
        "outputId": "71519d1e-9026-4c63-a8eb-2722f60135de"
      },
      "source": [
        "f, ax = plt.subplots()\r\n",
        "ax.plot(data[0], c*data[0]**H, color=\"deepskyblue\")\r\n",
        "ax.scatter(data[0], data[1], color=\"purple\")\r\n",
        "ax.set_xscale('log')\r\n",
        "ax.set_yscale('log')\r\n",
        "ax.set_xlabel('Time interval')\r\n",
        "ax.set_ylabel('R/S ratio')\r\n",
        "ax.grid(True)\r\n",
        "plt.show()\r\n",
        "\r\n",
        "print(\"H={:.4f}, c={:.4f}\".format(H,c))"
      ],
      "execution_count": 97,
      "outputs": [
        {
          "output_type": "display_data",
          "data": {
            "image/png": "[encoded data removed]",
            "text/plain": [
              "<Figure size 432x288 with 1 Axes>"
            ]
          },
          "metadata": {
            "tags": [],
            "needs_background": "light"
          }
        },
        {
          "output_type": "stream",
          "text": [
            "H=0.1900, c=197.1678\n"
          ],
          "name": "stdout"
        }
      ]
    },
    {
      "cell_type": "code",
      "metadata": {
        "id": "Yk9RFYhD7VaW"
      },
      "source": [
        "H, c, data = compute_Hc(X_train[:,0])"
      ],
      "execution_count": 98,
      "outputs": []
    },
    {
      "cell_type": "code",
      "metadata": {
        "colab": {
          "base_uri": "https://localhost:8080/"
        },
        "id": "tIX1lMJM9Xsb",
        "outputId": "b075d99a-e1d5-44e9-d2b1-f7f23f8ddb2c"
      },
      "source": [
        "data"
      ],
      "execution_count": 100,
      "outputs": [
        {
          "output_type": "execute_result",
          "data": {
            "text/plain": [
              "[[10,\n",
              "  17,\n",
              "  31,\n",
              "  56,\n",
              "  100,\n",
              "  177,\n",
              "  316,\n",
              "  562,\n",
              "  1000,\n",
              "  1778,\n",
              "  3162,\n",
              "  5623,\n",
              "  10000,\n",
              "  17782,\n",
              "  31622,\n",
              "  56234,\n",
              "  100000,\n",
              "  177827,\n",
              "  316227,\n",
              "  562341,\n",
              "  912000],\n",
              " [81.28565457575348,\n",
              "  68.16151736234245,\n",
              "  58.17114100229271,\n",
              "  42.53360433658319,\n",
              "  34.01321594786472,\n",
              "  37.20206817943909,\n",
              "  42.09205541145362,\n",
              "  48.47213255607279,\n",
              "  58.027806202903214,\n",
              "  68.57084353678226,\n",
              "  85.85282993217626,\n",
              "  108.57691173772338,\n",
              "  133.14518799293222,\n",
              "  164.739798177656,\n",
              "  290.21553615637896,\n",
              "  258.15745216655034,\n",
              "  66.4699328683892,\n",
              "  63.31479488412727,\n",
              "  62.05485081760568,\n",
              "  58.55912465030584,\n",
              "  63.05612915652112]]"
            ]
          },
          "metadata": {
            "tags": []
          },
          "execution_count": 100
        }
      ]
    },
    {
      "cell_type": "code",
      "metadata": {
        "id": "ZX3nyA4G9WEN"
      },
      "source": [
        ""
      ],
      "execution_count": null,
      "outputs": []
    },
    {
      "cell_type": "code",
      "metadata": {
        "colab": {
          "base_uri": "https://localhost:8080/",
          "height": 300
        },
        "id": "Zi-aT8Mz78q4",
        "outputId": "45d654ff-4088-42fb-d805-14caea231f7d"
      },
      "source": [
        "f, ax = plt.subplots()\r\n",
        "ax.plot(data[0], c*data[0]**H, color=\"deepskyblue\")\r\n",
        "ax.scatter(data[0], data[1], color=\"purple\")\r\n",
        "ax.set_xscale('log')\r\n",
        "ax.set_yscale('log')\r\n",
        "ax.set_xlabel('Time interval')\r\n",
        "ax.set_ylabel('R/S ratio')\r\n",
        "ax.grid(True)\r\n",
        "plt.show()\r\n",
        "\r\n",
        "print(\"H={:.4f}, c={:.4f}\".format(H,c))"
      ],
      "execution_count": 99,
      "outputs": [
        {
          "output_type": "display_data",
          "data": {
            "image/png": "[encoded data removed]",
            "text/plain": [
              "<Figure size 432x288 with 1 Axes>"
            ]
          },
          "metadata": {
            "tags": [],
            "needs_background": "light"
          }
        },
        {
          "output_type": "stream",
          "text": [
            "H=0.0602, c=45.8818\n"
          ],
          "name": "stdout"
        }
      ]
    },
    {
      "cell_type": "code",
      "metadata": {
        "colab": {
          "base_uri": "https://localhost:8080/"
        },
        "id": "AHcm6beD-UdM",
        "outputId": "98e31b63-8683-4e9a-90a2-735569f8e10f"
      },
      "source": [
        "pip install nolds"
      ],
      "execution_count": 102,
      "outputs": [
        {
          "output_type": "stream",
          "text": [
            "Collecting nolds\n",
            "  Downloading https://files.pythonhosted.org/packages/67/28/60d734bb74181f3a36d685c63b18481789fd54d6c25124662e7195e2d5ed/nolds-0.5.2-py2.py3-none-any.whl\n",
            "Requirement already satisfied: setuptools in /usr/local/lib/python3.6/dist-packages (from nolds) (51.0.0)\n",
            "Requirement already satisfied: future in /usr/local/lib/python3.6/dist-packages (from nolds) (0.16.0)\n",
            "Requirement already satisfied: numpy in /usr/local/lib/python3.6/dist-packages (from nolds) (1.19.4)\n",
            "Installing collected packages: nolds\n",
            "Successfully installed nolds-0.5.2\n"
          ],
          "name": "stdout"
        }
      ]
    },
    {
      "cell_type": "code",
      "metadata": {
        "id": "7SGtvHxo7I_s"
      },
      "source": [
        "import nolds"
      ],
      "execution_count": 124,
      "outputs": []
    },
    {
      "cell_type": "code",
      "metadata": {
        "colab": {
          "base_uri": "https://localhost:8080/",
          "height": 418
        },
        "id": "71gfE2Kh0kds",
        "outputId": "f02e76e1-b66f-4c5d-c49d-f432cb0b05c4"
      },
      "source": [
        "nolds.hurst_rs(X_train[:,0], nvals=None, fit=u'RANSAC', \r\n",
        "               debug_plot=True, debug_data=True, \r\n",
        "               plot_file=None, corrected=True, unbiased=True)"
      ],
      "execution_count": 112,
      "outputs": [
        {
          "output_type": "display_data",
          "data": {
            "image/png": "[encoded data removed]",
            "text/plain": [
              "<Figure size 432x288 with 1 Axes>"
            ]
          },
          "metadata": {
            "tags": [],
            "needs_background": "light"
          }
        },
        {
          "output_type": "execute_result",
          "data": {
            "text/plain": [
              "(0.6899108643505818,\n",
              " (array([5.14749448, 5.37527841, 5.60211882, 5.83188248, 6.06145692,\n",
              "         6.28971557, 6.51914729, 6.74758653, 6.97634807, 7.20489251,\n",
              "         7.43366654, 7.66199756, 7.89095672, 8.11969625, 8.34830105]),\n",
              "  array([3.79872021, 3.89988682, 3.99176239, 4.10413564, 4.25611966,\n",
              "         4.40177943, 4.57108295, 4.74955057, 4.92521938, 5.10781431,\n",
              "         5.30889107, 5.47482893, 5.66009469, 5.80772022, 5.9575756 ]),\n",
              "  array([ 0.18991086, -0.0429373 ])))"
            ]
          },
          "metadata": {
            "tags": []
          },
          "execution_count": 112
        }
      ]
    },
    {
      "cell_type": "code",
      "metadata": {
        "colab": {
          "base_uri": "https://localhost:8080/",
          "height": 415
        },
        "id": "qEq1vBGd0yEk",
        "outputId": "06aa496f-f705-4c3d-b641-86b027ad01ed"
      },
      "source": [
        "nolds.hurst_rs(X_train[:,1], nvals=None, fit=u'RANSAC', \r\n",
        "               debug_plot=True, debug_data=True, \r\n",
        "               plot_file=None, corrected=True, unbiased=True)"
      ],
      "execution_count": 113,
      "outputs": [
        {
          "output_type": "display_data",
          "data": {
            "image/png": "[encoded data removed]",
            "text/plain": [
              "<Figure size 432x288 with 1 Axes>"
            ]
          },
          "metadata": {
            "tags": [],
            "needs_background": "light"
          }
        },
        {
          "output_type": "execute_result",
          "data": {
            "text/plain": [
              "(0.9492091622165166,\n",
              " (array([5.14749448, 5.37527841, 5.60211882, 5.83188248, 6.06145692,\n",
              "         6.28971557, 6.51914729, 6.74758653, 6.97634807, 7.20489251,\n",
              "         7.43366654, 7.66199756, 7.89095672, 8.11969625, 8.34830105]),\n",
              "  array([4.28336051, 4.50387115, 4.71605315, 4.93443579, 5.14859439,\n",
              "         5.36055345, 5.58244975, 5.79298002, 6.01038394, 6.23949185,\n",
              "         6.46238537, 6.69680269, 6.91944338, 7.16350189, 7.39235092]),\n",
              "  array([ 0.44920916, -0.77975357])))"
            ]
          },
          "metadata": {
            "tags": []
          },
          "execution_count": 113
        }
      ]
    },
    {
      "cell_type": "code",
      "metadata": {
        "colab": {
          "base_uri": "https://localhost:8080/",
          "height": 687
        },
        "id": "fF5r06fJDj3S",
        "outputId": "12e4d059-a2bf-4d25-ef7e-256da3b67bc6"
      },
      "source": [
        "nolds.dfa(X_train[:,0], nvals= None, overlap=True, order=1, fit_trend=u'poly', fit_exp=u'RANSAC', \r\n",
        "          debug_plot=True, debug_data=True, plot_file=None)"
      ],
      "execution_count": 131,
      "outputs": [
        {
          "output_type": "display_data",
          "data": {
            "image/png": "[encoded data removed]",
            "text/plain": [
              "<Figure size 432x288 with 1 Axes>"
            ]
          },
          "metadata": {
            "tags": [],
            "needs_background": "light"
          }
        },
        {
          "output_type": "execute_result",
          "data": {
            "text/plain": [
              "(0.6856956026469637,\n",
              " (array([ 1.38629436,  1.60943791,  1.79175947,  2.07944154,  2.19722458,\n",
              "          2.39789527,  2.63905733,  2.83321334,  2.99573227,  3.17805383,\n",
              "          3.36729583,  3.55534806,  3.73766962,  3.93182563,  4.11087386,\n",
              "          4.29045944,  4.47733681,  4.66343909,  4.84418709,  5.03043792,\n",
              "          5.21493576,  5.39362755,  5.5759491 ,  5.75890177,  5.94279938,\n",
              "          6.12468339,  6.30809844,  6.49072353,  6.67329797,  6.8554088 ,\n",
              "          7.03790596,  7.22037384,  7.40245152,  7.58477308,  7.767264  ,\n",
              "          7.94979722,  8.13211877,  8.31434234,  8.49678638,  8.67914196,\n",
              "          8.86135011,  9.04369529,  9.22611529,  9.40837122,  9.59076114,\n",
              "          9.77303712,  9.95536817, 10.13768973, 10.32002447, 10.50235153,\n",
              "         10.6846914 , 10.86700532, 11.04933324, 11.2316495 , 11.41397768]),\n",
              "  array([-3.43096616, -2.9163416 , -2.51756976, -1.91085626, -1.66773838,\n",
              "         -1.25869544, -0.77430603, -0.39041879, -0.07419926,  0.27403369,\n",
              "          0.62422873,  0.95680897,  1.26133946,  1.55923144,  1.80494311,\n",
              "          2.01565571,  2.16798524,  2.25430776,  2.27187158,  2.28203634,\n",
              "          2.3114134 ,  2.33918175,  2.36920051,  2.41315465,  2.46394086,\n",
              "          2.52499916,  2.59416842,  2.67972798,  2.77072549,  2.86845178,\n",
              "          2.97940504,  3.09574509,  3.21811998,  3.32862513,  3.43663265,\n",
              "          3.54624047,  3.66194198,  3.75546882,  3.83069622,  3.92705911,\n",
              "          4.01423239,  4.13289595,  4.23152951,  4.36400623,  4.46432165,\n",
              "          4.58930135,  4.74650186,  4.92496216,  5.08747521,  5.28056552,\n",
              "          5.39685276,  5.6230668 ,  5.82050781,  5.99655971,  6.31785865]),\n",
              "  array([ 0.6856956 , -1.81530087])))"
            ]
          },
          "metadata": {
            "tags": []
          },
          "execution_count": 131
        }
      ]
    },
    {
      "cell_type": "code",
      "metadata": {
        "colab": {
          "base_uri": "https://localhost:8080/",
          "height": 419
        },
        "id": "gqq8UOB2FaAk",
        "outputId": "0441a6a4-b863-4f09-b4a9-795a40ad86c2"
      },
      "source": [
        "df['Label']"
      ],
      "execution_count": 129,
      "outputs": [
        {
          "output_type": "execute_result",
          "data": {
            "text/html": [
              "<div>\n",
              "<style scoped>\n",
              "    .dataframe tbody tr th:only-of-type {\n",
              "        vertical-align: middle;\n",
              "    }\n",
              "\n",
              "    .dataframe tbody tr th {\n",
              "        vertical-align: top;\n",
              "    }\n",
              "\n",
              "    .dataframe thead th {\n",
              "        text-align: right;\n",
              "    }\n",
              "</style>\n",
              "<table border=\"1\" class=\"dataframe\">\n",
              "  <thead>\n",
              "    <tr style=\"text-align: right;\">\n",
              "      <th></th>\n",
              "      <th>Time</th>\n",
              "      <th>Signal1</th>\n",
              "      <th>Signal2</th>\n",
              "      <th>Label</th>\n",
              "    </tr>\n",
              "  </thead>\n",
              "  <tbody>\n",
              "    <tr>\n",
              "      <th>0</th>\n",
              "      <td>2017-08-14 11:37:49.791</td>\n",
              "      <td>33668.091913</td>\n",
              "      <td>0.856726</td>\n",
              "      <td>A</td>\n",
              "    </tr>\n",
              "    <tr>\n",
              "      <th>1</th>\n",
              "      <td>2017-08-14 11:37:49.801</td>\n",
              "      <td>32564.903040</td>\n",
              "      <td>0.856705</td>\n",
              "      <td>A</td>\n",
              "    </tr>\n",
              "    <tr>\n",
              "      <th>2</th>\n",
              "      <td>2017-08-14 11:37:49.811</td>\n",
              "      <td>31454.043305</td>\n",
              "      <td>0.856683</td>\n",
              "      <td>A</td>\n",
              "    </tr>\n",
              "    <tr>\n",
              "      <th>3</th>\n",
              "      <td>2017-08-14 11:37:49.821</td>\n",
              "      <td>30335.387166</td>\n",
              "      <td>0.856659</td>\n",
              "      <td>A</td>\n",
              "    </tr>\n",
              "    <tr>\n",
              "      <th>4</th>\n",
              "      <td>2017-08-14 11:37:49.831</td>\n",
              "      <td>29207.142938</td>\n",
              "      <td>0.856634</td>\n",
              "      <td>A</td>\n",
              "    </tr>\n",
              "    <tr>\n",
              "      <th>...</th>\n",
              "      <td>...</td>\n",
              "      <td>...</td>\n",
              "      <td>...</td>\n",
              "      <td>...</td>\n",
              "    </tr>\n",
              "    <tr>\n",
              "      <th>911995</th>\n",
              "      <td>2020-01-04 10:55:49.186</td>\n",
              "      <td>34673.811155</td>\n",
              "      <td>0.151395</td>\n",
              "      <td>C</td>\n",
              "    </tr>\n",
              "    <tr>\n",
              "      <th>911996</th>\n",
              "      <td>2020-01-04 10:55:49.196</td>\n",
              "      <td>34672.951723</td>\n",
              "      <td>0.151385</td>\n",
              "      <td>C</td>\n",
              "    </tr>\n",
              "    <tr>\n",
              "      <th>911997</th>\n",
              "      <td>2020-01-04 10:55:49.206</td>\n",
              "      <td>34671.967555</td>\n",
              "      <td>0.151373</td>\n",
              "      <td>C</td>\n",
              "    </tr>\n",
              "    <tr>\n",
              "      <th>911998</th>\n",
              "      <td>2020-01-04 10:55:49.216</td>\n",
              "      <td>34670.877944</td>\n",
              "      <td>0.151359</td>\n",
              "      <td>C</td>\n",
              "    </tr>\n",
              "    <tr>\n",
              "      <th>911999</th>\n",
              "      <td>2020-01-04 10:55:49.226</td>\n",
              "      <td>34669.694865</td>\n",
              "      <td>0.151342</td>\n",
              "      <td>C</td>\n",
              "    </tr>\n",
              "  </tbody>\n",
              "</table>\n",
              "<p>912000 rows × 4 columns</p>\n",
              "</div>"
            ],
            "text/plain": [
              "                           Time       Signal1   Signal2 Label\n",
              "0       2017-08-14 11:37:49.791  33668.091913  0.856726     A\n",
              "1       2017-08-14 11:37:49.801  32564.903040  0.856705     A\n",
              "2       2017-08-14 11:37:49.811  31454.043305  0.856683     A\n",
              "3       2017-08-14 11:37:49.821  30335.387166  0.856659     A\n",
              "4       2017-08-14 11:37:49.831  29207.142938  0.856634     A\n",
              "...                         ...           ...       ...   ...\n",
              "911995  2020-01-04 10:55:49.186  34673.811155  0.151395     C\n",
              "911996  2020-01-04 10:55:49.196  34672.951723  0.151385     C\n",
              "911997  2020-01-04 10:55:49.206  34671.967555  0.151373     C\n",
              "911998  2020-01-04 10:55:49.216  34670.877944  0.151359     C\n",
              "911999  2020-01-04 10:55:49.226  34669.694865  0.151342     C\n",
              "\n",
              "[912000 rows x 4 columns]"
            ]
          },
          "metadata": {
            "tags": []
          },
          "execution_count": 129
        }
      ]
    },
    {
      "cell_type": "code",
      "metadata": {
        "id": "XKWZ8oqVGIi8"
      },
      "source": [
        ""
      ],
      "execution_count": null,
      "outputs": []
    }
  ]
}