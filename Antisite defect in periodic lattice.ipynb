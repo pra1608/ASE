{
 "cells": [
  {
   "cell_type": "markdown",
   "metadata": {},
   "source": [
    "### General Instructions: \n",
    "- Due Date: Friday Feb 14, 5 PM \n",
    "- Submission: Please work on this Notebook and leave it in your account on the server. We have a crontab job which will copy your submission Notebook from your account at sharp 5 PM on Friday, Feb 14. Any changes made to Notebook after 5 PM, Friday, Feb 14 will not be reflected in the submitted assignment. DO NOT change the name or location of this file on the server.\n",
    "- __Plagiarism will not be tolerated in any form. Zero points will be awarded for the entire assignment in such cases__."
   ]
  },
  {
   "cell_type": "code",
   "execution_count": 40,
   "metadata": {},
   "outputs": [],
   "source": [
    "import os\n",
    "import numpy as np\n",
    "import ase\n",
    "import ase.io\n",
    "import ase.build\n",
    "import ase.visualize"
   ]
  },
  {
   "cell_type": "raw",
   "metadata": {},
   "source": [
    "Problem 1: Antisite defect in periodic lattice [30 points]\n",
    "\n",
    "In lecture 6 notebook [12_ASE_practice.ipynb], we performed an in-class activity (Activity-4), where our task was to create an antisite defect in a 4x4x4 supercell of PbTiO3 unitcell. In that activity, we replaced the position of one Pb atom with that of a nearest-neighboring Ti atom [Pb-Ti antisite defect]. To ensure that the nearest neighbor is on the same side of cell (nearest neighbor could be on the other side of the cell due to periodic boundary conditions), we chose Pb atom close to the center of the supercell.\n",
    "\n",
    "In this activity, we will relax this requirement. That is, we are not allowed to choose only from close to center of the supercell. We have to choose any Pb atom randomly from the entire supercell. Next we need to find nearest-neighboring Ti. Note that the Ti could be on the other-side of the cell. Your job in this activity is to find the nearest Ti atom [use periodic boundary condition (PBC), i.e., atom with direct/fractional/scaled/reduced coordinate (0.2,0.8,0.4) could be moved to (1.2, 0.8,0.4) or (1.2,1.8.1.4) and likewise without any change in the structure]. So, for example, if Pb is at direct-coord (0.90, 0.95, 0.85) and one Ti at direct-coord (0.60, 0.60, 0.55) and another Ti at direct-coord (0.10, 0.10, 0.05) then the second Ti atom is the nearest neighor even though first Ti atom seems closer.\n",
    "\n",
    "Caution: All the atoms in the provided perturbed_supercell_PbTiO3_POSCAR file are displaced from their equilirium positions by some random amount. As such, there is only one neighboring Ti with minimum distance.\n",
    "\n",
    "Hint: To solve this problem, first select a random Pb atom. Next loop over all Ti atoms. For each Ti atom, check what is the nearest distance of this Ti atom with the chosen Pb atom by considering PBC. For this, shift the Ti atom by [n1*a1 + n2*a2 + n3*a3], where n1,n2,n3 are integers and a1,a2,a3 are lattice vectors and calculate distances using generated cartesian coordinates. Finally for the chosen Pb atom and current Ti atom, the distance would be minimum of all of these [n1*a1 + n2*a2 + n3*a3] Ti-image distances. Note that you need to consider negative n1,n2,n3 as well! Think about what should be range of n1, n2, and n3. "
   ]
  },
  {
   "cell_type": "code",
   "execution_count": 4,
   "metadata": {},
   "outputs": [],
   "source": [
    "# read the structure\n",
    "atoms = ase.io.read('perturbed_supercell_PbTiO3_POSCAR', format='vasp')\n",
    "alat = atoms.get_cell()\n",
    "scaled_positions = atoms.get_scaled_positions()\n",
    "positions = atoms.get_positions()\n",
    "symbols = atoms.get_chemical_symbols() \n",
    "Pb_indices = [atom.index for atom in atoms if atom.symbol==\"Pb\"]\n",
    "random_pb_index = Pb_indices[np.random.randint(0,len(Pb_indices))]\n",
    "dists = []\n",
    "neighbor_dist = 1e+6   # initialize to some large number\n",
    "neighbor_index = -1\n",
    "for i in range(len(symbols)):\n",
    "    if symbols[i] != 'Ti':\n",
    "        continue\n",
    "    for n1 in range(1,-2):\n",
    "        for n2 in range(1,-2):\n",
    "            for n3 in range(1,-2):\n",
    "                shift = np.array(position[i])+np.array([n1*alat[0][0]]+n2*alat[1][1]+n3*alat[2][2])\n",
    "                dist = np.sum((numpy.array(positions[i]) - np.array(positions[random_pb_index]))**2)\n",
    "                dist = np.sqrt(dist)\n",
    "                if dist < neighbor_dist:\n",
    "                    neighbor_dist = dist\n",
    "                    neighbor_index = i\n",
    "symbols[random_pb_index] = 'Ti'\n",
    "symbols[neighbor_index] = 'Pb'\n",
    "atoms.set_chemical_symbols(symbols)\n",
    "ase.visualize.view(atoms)\n",
    "    \n",
    "# save the structure\n",
    "# write the final atomic structure 'atoms' to file\n",
    "ase.io.write('antisite_defect_POSCAR', atoms, format='vasp')\n",
    "\n",
    "\n",
    "'''\n",
    "[-3 points]: no comments in the code to help readers!\n",
    "Suggestion: This solution will work only for orthorhombic cells. Check HW-solution for a generic case\n",
    "'''"
   ]
  },
  {
   "cell_type": "raw",
   "metadata": {},
   "source": [
    "Problem 2: Constraints using ASE [30 points]\n",
    "\n",
    "For studying the surface catalytic activities of heterogeneous catalysts, the activity of material is predicted by calculating the adsorption energies of involved reaction species on the catalyst surface. This is acheived by creating a surface/slab of catalytic material and adsorbing reaction species on different surface sites. For modelling of catalytic surface, typically bottom few layers of atoms are fixed to their bulk environment during the relaxation process using constraints. \n",
    "\n",
    "Read the documentation of ASE Constraints at: https://wiki.fysik.dtu.dk/ase/ase/constraints.html#the-fixatoms-class\n",
    "and that of ASE sort function at:\n",
    "https://wiki.fysik.dtu.dk/ase/ase/build/tools.html?highlight=sort#ase.build.sort\n",
    "\n",
    "Using above two functionalities of ASE, we will generate a Cu-surface slab in this activity.\n",
    "\n",
    "1. [5 points] Generate atomic-object corresponding to bulk Cu with 4 atoms in the unitcell (conventional FCC cell) and a lattice constant of 3.6 Angstrom.\n",
    "2. [3 points] Cut the surface (111) of Conventional FCC-Cu using ASE function 'surface'. Fix the number of layers to 4 and vacuum to 15 Angstrom.\n",
    "3. [2 points] Increase the size of surface by (2,2,1)\n",
    "4. [10 points] use ase.build.sort to sort the atoms in the atomic-object according to their z-coordinate, i.e., atoms with lower value of cart-z will have smaller index and atoms with higher value of coord-z will have higher index. \n",
    "5. [10 points] Use ase.build.FixAtoms to constraints the fix the atoms belonging to bottom two layers of the surface. \n",
    "\n",
    "Save the final atomic object as \"surface_POSCAR\" in the 'vasp' format.\n",
    "\n",
    "For your reference, the final generated reference_surface_POSCAR file is provided as an reference. Visualize this file using \"ase gui\". Visualize the frile from different angles to understand how does (111) surface of FCC-metals look like. Also, keep in mind that by default, ASE orients the surface along the z-direction. As such you will see that the vacuum is added in the z-direction."
   ]
  },
  {
   "cell_type": "code",
   "execution_count": 5,
   "metadata": {},
   "outputs": [],
   "source": [
    "import ase.build \n",
    "import ase.visualize \n",
    "import ase.constraints\n",
    "import numpy as np\n",
    "import ase.io \n",
    "a3 =ase.build.bulk('Cu', 'fcc', a=3.6, cubic=True)                       #Generate atomic-object\n",
    "a3.cell\n",
    "s1 = ase.build.surface(a3, (1, 1, 1), 4)                                 # Cut the surface (111) using ASE function 'surface'\n",
    "s1.center(vacuum=15, axis=2)\n",
    "s1= s1.repeat((2,2,1))                                                   #Increase the size of surface by (2,2,1)\n",
    "s1_position = s1.get_positions()\n",
    "a = np.array(s1_position)\n",
    "\n",
    "'''\n",
    "[-3 points]: check HW-solution for the right use of sort function!\n",
    "'''\n",
    "a.view('i8,i8,i8').sort(order=['f2'], axis=0)                            #sort the atoms \n",
    "\n",
    "s1.set_positions(a)\n",
    "constraints = ase.constraints.FixAtoms(indices=np.ndarray.tolist(np.arange(0,len(s1_position)/2,1)))    #constraints \n",
    "s1.set_constraint(constraints)\n",
    "ase.io.write('output_POSCAR', s1, format='vasp')\n",
    "ase.visualize.view(s1)\n",
    "\n",
    "'''\n",
    "[-1 point]: need to use much more comments to help readers!\n",
    "'''\n"
   ]
  },
  {
   "cell_type": "code",
   "execution_count": 6,
   "metadata": {},
   "outputs": [
    {
     "data": {
      "text/plain": [
       "64"
      ]
     },
     "execution_count": 6,
     "metadata": {},
     "output_type": "execute_result"
    }
   ],
   "source": [
    "len(s1_position)"
   ]
  },
  {
   "cell_type": "raw",
   "metadata": {},
   "source": [
    "P1: -3\n",
    "P2: -4\n",
    "Total: -7"
   ]
  }
 ],
 "metadata": {
  "kernelspec": {
   "display_name": "Python 3",
   "language": "python",
   "name": "python3"
  },
  "language_info": {
   "codemirror_mode": {
    "name": "ipython",
    "version": 3
   },
   "file_extension": ".py",
   "mimetype": "text/x-python",
   "name": "python",
   "nbconvert_exporter": "python",
   "pygments_lexer": "ipython3",
   "version": "3.6.8"
  }
 },
 "nbformat": 4,
 "nbformat_minor": 2
}
