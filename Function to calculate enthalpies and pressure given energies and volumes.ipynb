{
 "cells": [
  {
   "cell_type": "markdown",
   "metadata": {},
   "source": [
    "## HW-3\n",
    "\n",
    "### General Instructions: \n",
    "- Due Date: Wed Mar 4, 5 PM \n",
    "- Submission: Please work on this Notebook and leave it in your account on the server. We have a crontab job which will copy your submission Notebook from your account at sharp 5 PM on Wed, Mar 4. Any changes made to Notebook after 5 PM, Wed, Mar 4 will not be reflected in the submitted assignment. DO NOT change the name or location of this file on the server.\n",
    "- __Plagiarism will not be tolerated in any form. Zero points will be awarded for the entire assignment in such cases__."
   ]
  },
  {
   "cell_type": "code",
   "execution_count": 1,
   "metadata": {},
   "outputs": [],
   "source": [
    "alias qstat /opt/pbs/bin/qstat -u $USER"
   ]
  },
  {
   "cell_type": "code",
   "execution_count": 2,
   "metadata": {},
   "outputs": [],
   "source": [
    "qstat"
   ]
  },
  {
   "cell_type": "code",
   "execution_count": 46,
   "metadata": {},
   "outputs": [],
   "source": [
    "import os, sys\n",
    "import ase\n",
    "import ase.calculators.vasp\n",
    "import ase.io \n",
    "import ase.units\n",
    "import ase.eos\n",
    "from ase.visualize import view\n",
    "import matplotlib\n",
    "from matplotlib import pyplot as plt\n",
    "import numpy as np\n",
    "import mywrapper\n",
    "pwd = os.getcwd()"
   ]
  },
  {
   "cell_type": "markdown",
   "metadata": {},
   "source": [
    "### Pressure Driven Phase Transformation [80 points]\n",
    "\n",
    "TiO$_2$ exists in many different structural phases such as Rutile, Anatase, Brookite, Hollandite, etc. Amongst others, the stability of these phases depends on the pressure and conditions. \n",
    "\n",
    "In this question, you are going to investigate the pressure driven phase change between Anatase and Rutile phases of TiO$_2$. \n",
    "\n",
    "One can determine pressure-driven phase transition by comparing enthalpies, `H`, of two phases. Enthalpy is defined as `H = E + PV`, where E is the internal/potential energy, and P, V are pressure and volume respectively.  The pressure is defined as $$P = -\\frac{dE}{dV}$$ at const $T$ and enthalpy, $H$ is $$H = E + PV$$\n",
    "\n",
    "You have to carry out the following steps:\n",
    "- [10 points] Similar to formulation in HW1-Q4, write a function capable of calculating enthalpies and pressure given internal-energies and volumes\n",
    "- [26 points] Anatase-Phase\n",
    "  - [4 points] kgrid convergence [be sure that simulation cell size is/could be different in different directions]\n",
    "  - [2 points] encut convergence\n",
    "  - [2 points] sigma convergence\n",
    "  - [6 points] structure relaxation using ISIF=3 \n",
    "  - [12 points] Calculate enthalpy of Anatase phase as a function of pressure. For this you have to isotropically change the cell-volume and do only internal degrees relaxation using ISIF=4\n",
    " \n",
    "- [26 points] Rutile-Phase\n",
    "  - [4 points] kgrid convergence \n",
    "  - [2 points] encut convergence\n",
    "  - [2 points] sigma convergence\n",
    "  - [6 points] structure relaxation using ISIF=3 \n",
    "  - [12 points] Calculate enthalpy of Rutile phase as a function of pressure. For this you have to isotropically change the cell-volume and do only internal degrees relaxation using ISIF=4\n",
    "  \n",
    "- [18 points] Plot enthalpies of Rutile and Anatase phases on the same plot and answer the following questions:\n",
    "  - [4 points] plot of Enthalpies with Pressure [in GPa] with proper title, units, legend, etc.\n",
    "  - [5 points] which phase is more stable at 0 Pressure?\n",
    "  - [9 points] At what pressure phase transition happens from one of these phases to other [in GPa]? You may have to zoom-in on the pressure-axis to figure this out!\n",
    "  \n",
    "__Notes:__  \n",
    "- __Use ediff of 1e-5 eV/atom in all calculations__\n",
    "- __Relax all structures to 1e-3 eV/atom in all calculations__\n",
    "- __Do convergence to within 1e-3 eV/atom for simulation parameters__"
   ]
  },
  {
   "cell_type": "markdown",
   "metadata": {},
   "source": [
    "### Global parameters"
   ]
  },
  {
   "cell_type": "code",
   "execution_count": 47,
   "metadata": {},
   "outputs": [],
   "source": [
    "ediff_natom = 1e-5\n",
    "ediffg_natom = 1e-3\n",
    "threshold_convergence_natom = 1e-3 "
   ]
  },
  {
   "cell_type": "markdown",
   "metadata": {},
   "source": [
    "### Function to calculate enthalpies and pressure given energies and volumes "
   ]
  },
  {
   "cell_type": "code",
   "execution_count": 48,
   "metadata": {},
   "outputs": [],
   "source": [
    "def get_enthalpy_pressure(volumes, energies):\n",
    "    '''\n",
    "    Function takes list of volumes and list of energies as an input\n",
    "    Function returns corresponding list of enthalpies and pressures\n",
    "    '''\n",
    "    enthalpies = []\n",
    "    pressures = []\n",
    "    c = np.polyfit(volumes, energies, 3)                # fitting curve between volume and energies\n",
    "    Eq = np.poly1d(c)                                   \n",
    "    P = -1*np.polyder(Eq)                               # differentiating polynimial equation w.r.t (v)\n",
    "    for v,e in zip(volumes, energies):\n",
    "        pressure = P(v)\n",
    "        enthalpy = e + pressure*v                       # Enthalpy Values\n",
    "        pressures.append(pressure/ase.units.GPa)\n",
    "        enthalpies.append(enthalpy)\n",
    "    \n",
    "    return enthalpies, pressures"
   ]
  },
  {
   "cell_type": "markdown",
   "metadata": {},
   "source": [
    "### Anatase"
   ]
  },
  {
   "cell_type": "code",
   "execution_count": 49,
   "metadata": {},
   "outputs": [],
   "source": [
    "anatase = ase.io.read('anatase.cif')\n",
    "anatase_cell = anatase.get_cell()\n",
    "anatase_amag = []\n",
    "# calculate lattice-vector magnitudes in amag; needed for kgrid later\n",
    "#  amag[0] = sqrt(a1_x**2 + a1_y**2 + a1_z**2) and so on for amag[1] and amag[2]\n",
    "for i in range(len(anatase_cell)):\n",
    "    mag = np.sqrt(anatase_cell[i][0]**2+anatase_cell[i][1]**2+anatase_cell[i][2]**2)\n",
    "    anatase_amag.append(mag)\n",
    "    "
   ]
  },
  {
   "cell_type": "markdown",
   "metadata": {},
   "source": [
    "#### kgrid convergence"
   ]
  },
  {
   "cell_type": "code",
   "execution_count": 50,
   "metadata": {},
   "outputs": [
    {
     "data": {
      "image/png": "[encoded data removed]",
      "text/plain": [
       "<Figure size 432x288 with 1 Axes>"
      ]
     },
     "metadata": {
      "needs_background": "light"
     },
     "output_type": "display_data"
    },
    {
     "name": "stdout",
     "output_type": "stream",
     "text": [
      "kpt | dE (meV/atom) | if converged?\n",
      "----------------------------------------\n",
      "  4          10.364     0\n",
      "  6           3.077     1\n",
      "  8           0.861     1\n",
      " 10           1.091     1\n",
      " 12           0.000     1\n"
     ]
    }
   ],
   "source": [
    "# make sure we are in the right path\n",
    "os.chdir(pwd)\n",
    "\n",
    "# normalize global variables by natom\n",
    "ediff = ediff_natom * len(anatase)\n",
    "ediffg = ediffg_natom * len(anatase)\n",
    "threshold_convergence = threshold_convergence_natom * len(anatase)\n",
    "\n",
    "# other simmulation parameetrs\n",
    "XC = 'pbe'\n",
    "encut = 350\n",
    "sigma = 0.05\n",
    "kpts = [4,6,8,10,12]     \n",
    "\n",
    "# note that ANatase cell is not cubic! As such, a1, a2, and a3 are not equal and we need \n",
    "# to be careful to use different number of kpts in b1, b2, and b3 directions, so that \n",
    "# eventually the spacing between kpts in the reciprocal space, i.e. \n",
    "# the product of (amag[i] * kpts[i]),  is same in all three\n",
    "# direction, where amag[i] is the length of lattice vector i and kpts[i] is the number of\n",
    "# kpts in the ith direction\n",
    "\n",
    "energies = []\n",
    "for kpt in kpts:\n",
    "    \n",
    "    # get kpts in three directions\n",
    "    kgrid = [kpt, int(round((kpt * anatase_amag[0])/anatase_amag[1])), \n",
    "                                int(round((kpt * anatase_amag[0])/anatase_amag[2]))]\n",
    "    \n",
    "    path = \"TiO2/Anatase/kgrid/%d\" % (kpt)                      # creating dir for kpts\n",
    "    calc = ase.calculators.vasp.Vasp(\n",
    "            xc=\"pbe\",\n",
    "            kpts=kgrid,\n",
    "            encut=350,\n",
    "            ediff=ediff,\n",
    "            algo='fast',\n",
    "            prec='accurate',\n",
    "            nelmin=4,\n",
    "            nelm=100,\n",
    "            ismear=0,\n",
    "            sigma=0.05,\n",
    "            lwave=False,   \n",
    "            npar=2,  \n",
    "            )\n",
    "    anatase.set_calculator(calc)\n",
    "    energy = mywrapper.get_energy(anatase, dir=path)  # getting energy for corresponding kpt and appending in the energies\n",
    "    energies.append(energy)\n",
    "\n",
    "plt.figure(0)\n",
    "plt.plot(kpts, energies, 'ro-')\n",
    "plt.xlabel('Number of k-points in each dimension')\n",
    "plt.ylabel('Total Energy (eV)')\n",
    "plt.title('kgrid-convergence')\n",
    "plt.show()\n",
    "\n",
    "# check convergence\n",
    "energies = abs(np.array(energies) - energies[-1])\n",
    "print(\"kpt | dE (meV/atom) | if converged?\")\n",
    "print('-'*40)\n",
    "for kpt,e in zip(kpts, energies):\n",
    "    print('%3d %15.3f %5d' % (kpt, 1000*e, e<threshold_convergence)) "
   ]
  },
  {
   "cell_type": "markdown",
   "metadata": {},
   "source": [
    "#### encut convergence"
   ]
  },
  {
   "cell_type": "code",
   "execution_count": 51,
   "metadata": {},
   "outputs": [
    {
     "data": {
      "image/png": "[encoded data removed]",
      "text/plain": [
       "<Figure size 432x288 with 1 Axes>"
      ]
     },
     "metadata": {
      "needs_background": "light"
     },
     "output_type": "display_data"
    },
    {
     "name": "stdout",
     "output_type": "stream",
     "text": [
      "encut (eV) | dE (meV/atom) | if converged?\n",
      "----------------------------------------\n",
      "      250         205.870     0\n",
      "      300          99.478     0\n",
      "      350          29.817     0\n",
      "      400          10.727     0\n",
      "      450           1.277     0\n",
      "      500           1.534     0\n",
      "      550           1.296     0\n",
      "      600           0.000     1\n"
     ]
    }
   ],
   "source": [
    "# make sure we are in the right path\n",
    "os.chdir(pwd)\n",
    "kpt = 6\n",
    "encuts = [250,300,350,400,450,500,550,600]\n",
    "energies = []\n",
    "for encut in encuts:\n",
    "    \n",
    "    # dir-name for this encut calculation\n",
    "    path = 'encut/%d' % (encut)\n",
    "    \n",
    "    # set basic calculator\n",
    "    calc = ase.calculators.vasp.Vasp(\n",
    "            xc=\"pbe\",\n",
    "            kpts=[kpt, int(round((kpt * anatase_amag[0])/anatase_amag[1])), \n",
    "                                int(round((kpt * anatase_amag[0])/anatase_amag[2]))],\n",
    "            encut=encut,\n",
    "            ediff=ediff,\n",
    "            algo='fast',\n",
    "            prec='accurate',\n",
    "            nelmin=4,\n",
    "            nelm=100,\n",
    "            ismear=0,\n",
    "            sigma=0.05,\n",
    "            lwave=False,            \n",
    "            )\n",
    "    \n",
    "    anatase.set_calculator(calc)\n",
    "    energy = mywrapper.get_energy(anatase, dir=path)\n",
    "    energies.append(energy)\n",
    "    \n",
    "# plot between Planewave Energy Cutoff & Total Energy   \n",
    "plt.figure(1)\n",
    "plt.semilogx(encuts, energies, 'ro-')\n",
    "plt.xlabel('Planewave Energy Cutoff (eV)')\n",
    "plt.ylabel('Total Energy (eV)')\n",
    "plt.title('encut-convergence')\n",
    "plt.show()\n",
    "\n",
    "# convert energies to meV/atom\n",
    "natom = len(anatase.get_positions())\n",
    "\n",
    "'''\n",
    "[-2] why divide by natom here?\n",
    "'''\n",
    "energies = abs(1000*(np.array(energies) - energies[-1])/natom)\n",
    "print(\"encut (eV) | dE (meV/atom) | if converged?\")\n",
    "print('-'*40)\n",
    "for encut,e in zip(encuts, energies):\n",
    "    print('%9d %15.3f %5d' % (encut, e, e<threshold_convergence))\n",
    "    \n",
    "'''\n",
    "[-2]: seem sthat encut is not converged! should have increased the range!\n",
    "'''"
   ]
  },
  {
   "cell_type": "markdown",
   "metadata": {},
   "source": [
    "#### sigma convergence"
   ]
  },
  {
   "cell_type": "code",
   "execution_count": 52,
   "metadata": {},
   "outputs": [
    {
     "data": {
      "image/png": "[encoded data removed]",
      "text/plain": [
       "<Figure size 432x288 with 1 Axes>"
      ]
     },
     "metadata": {
      "needs_background": "light"
     },
     "output_type": "display_data"
    },
    {
     "name": "stdout",
     "output_type": "stream",
     "text": [
      "sigma (eV) | dE (meV/atom) | if converged?\n",
      "----------------------------------------\n",
      "    0.100           0.000     1\n",
      "    0.050           0.000     1\n",
      "    0.010           0.000     1\n",
      "    0.005           0.000     1\n",
      "    0.001           0.000     1\n"
     ]
    }
   ],
   "source": [
    "# make sure we are in the right path\n",
    "os.chdir(pwd)\n",
    "\n",
    "\n",
    "'''\n",
    "[-2] why use 12x kpt here when 6x is converged?\n",
    "'''\n",
    "kpt = 12\n",
    "sigmas = [0.10, 0.05, 0.01, 0.005, 0.001]\n",
    "energies = []\n",
    "for sigma in sigmas:\n",
    "    \n",
    "    # dir-name for this kpt calculation\n",
    "    path = 'sigma/%d' % (int(1000*sigma))\n",
    "    \n",
    "    # set basic calculator\n",
    "    calc = ase.calculators.vasp.Vasp(\n",
    "            xc=\"pbe\",\n",
    "            kpts=[kpt, int(round((kpt * anatase_amag[0])/anatase_amag[1])), \n",
    "                                int(round((kpt * anatase_amag[0])/anatase_amag[2]))],\n",
    "        \n",
    "        \n",
    "            '''\n",
    "            [-2] why use 400 encut?\n",
    "            '''\n",
    "            encut=400,\n",
    "            ediff=ediff,\n",
    "            algo='fast',\n",
    "            prec='accurate',\n",
    "            nelmin=4,\n",
    "            nelm=100,\n",
    "            ismear=0,\n",
    "            sigma=sigma,\n",
    "            lwave=False,\n",
    "            )\n",
    "    \n",
    "    anatase.set_calculator(calc)\n",
    "    energy = mywrapper.get_energy(anatase, dir=path)\n",
    "    energies.append(energy)\n",
    "# plot between sigma &  Total Energy\n",
    "plt.figure(2)\n",
    "plt.semilogx(sigmas, energies, 'ro-')\n",
    "plt.xlabel('sigma (eV)')\n",
    "plt.ylabel('Total Energy (eV)')\n",
    "plt.title('sigma-convergence')\n",
    "plt.show()    \n",
    "\n",
    "# convert energies to meV/atom\n",
    "natom = len(anatase.get_positions())\n",
    "energies = abs(1000* (np.array(energies) - energies[-1])/natom)\n",
    "print(\"sigma (eV) | dE (meV/atom) | if converged?\")\n",
    "print('-'*40)\n",
    "for sigma,e in zip(sigmas, energies):\n",
    "    print('%9.3f %15.3f %5d' % (sigma, e, e<threshold_convergence))"
   ]
  },
  {
   "cell_type": "markdown",
   "metadata": {},
   "source": [
    "#### Structure relaxation"
   ]
  },
  {
   "cell_type": "code",
   "execution_count": 53,
   "metadata": {},
   "outputs": [
    {
     "name": "stdout",
     "output_type": "stream",
     "text": [
      "Stress-Tensor (GPa):  [ 0.371642 -0.004666 -0.170895  0.        0.        0.300308]\n",
      "\n",
      "Atomic-Symbol | position (A) | force (eV/A)\n",
      "---------------------------------------------\n",
      "Ti [ 4.25817865e+00  2.35701402e+00 -2.02450000e-12] [ 0. -0.  0.]\n",
      "Ti [1.47596689 2.3584372  1.34863048] [ 0. -0.  0.]\n",
      "O [3.23376615 3.33142538 1.34863048] [-0.016981 -0.0094    0.      ]\n",
      "O [ 6.01597791e+00  3.33000220e+00 -2.85995486e-12] [-0.016981 -0.0094    0.      ]\n",
      "O [-0.28183237  1.38544902  1.34863048] [ 0.016981  0.0094   -0.      ]\n",
      "O [ 2.50037940e+00  1.38402584e+00 -1.18904514e-12] [ 0.016981  0.0094   -0.      ]\n",
      "\n",
      "Lattice-vectors:\n",
      " [[ 5.56442352e+00 -2.84636806e-03 -2.02450000e-12]\n",
      " [ 2.95193379e+00  4.71687441e+00 -2.02450000e-12]\n",
      " [-4.25817866e+00 -2.35701402e+00  2.69726096e+00]]\n"
     ]
    }
   ],
   "source": [
    "# make sure we are in the right path\n",
    "os.chdir(pwd)\n",
    "anatase_relax_path = 'structure_relax/vasp_relax/'\n",
    "kpt = 6\n",
    "energies = []\n",
    "calc = ase.calculators.vasp.Vasp(\n",
    "        xc=\"pbe\",\n",
    "        kpts=[kpt, int(round((kpt * anatase_amag[0])/anatase_amag[1])), \n",
    "                            int(round((kpt * anatase_amag[0])/anatase_amag[2]))],\n",
    "        encut=encut,\n",
    "        ediff=ediff,\n",
    "        algo='fast',\n",
    "        prec='accurate',\n",
    "        nelmin=4,\n",
    "        nelm=100,\n",
    "        ismear=0,\n",
    "        sigma=0.05,\n",
    "        lwave=False, \n",
    "        nsw=100,\n",
    "        ibrion=2,\n",
    "        isif=3,\n",
    "        ediffg=ediffg,  # criterion of 0.1 meV/atom change in energy \n",
    "        )\n",
    "    \n",
    "anatase.set_calculator(calc)\n",
    "energy = mywrapper.get_energy(anatase, dir=anatase_relax_path)\n",
    "calc = mywrapper.get_calculator(dir=anatase_relax_path)\n",
    "\n",
    "if calc is not None:\n",
    "    atoms = calc.atoms\n",
    "    print('Stress-Tensor (GPa): ', calc.stress/ase.units.GPa)\n",
    "    forces = calc.forces\n",
    "    print('\\nAtomic-Symbol | position (A) | force (eV/A)')\n",
    "    print('-'*45)\n",
    "    for i, atom in enumerate(atoms):\n",
    "        print(atom.symbol, atom.position, forces[i])\n",
    "\n",
    "    print(\"\\nLattice-vectors:\\n\", atoms.get_cell())\n",
    "    \n"
   ]
  },
  {
   "cell_type": "markdown",
   "metadata": {},
   "source": [
    "#### Isotropic volume change and pressure calculation"
   ]
  },
  {
   "cell_type": "code",
   "execution_count": 54,
   "metadata": {},
   "outputs": [
    {
     "name": "stdout",
     "output_type": "stream",
     "text": [
      "[[ 5.56442352e+00 -2.84636806e-03 -2.02450000e-12]\n",
      " [ 2.95193379e+00  4.71687441e+00 -2.02450000e-12]\n",
      " [-4.25817866e+00 -2.35701402e+00  2.69726096e+00]]\n"
     ]
    },
    {
     "data": {
      "image/png": "[encoded data removed]",
      "text/plain": [
       "<Figure size 432x288 with 1 Axes>"
      ]
     },
     "metadata": {
      "needs_background": "light"
     },
     "output_type": "display_data"
    }
   ],
   "source": [
    "# make sure we are in the right path\n",
    "os.chdir(pwd)\n",
    "path = 'structure_relax/vasp_relax/'\n",
    "# volumes to scale by\n",
    "scales = [0.95,0.96,0.97,0.98,0.99,1.0,1.01,1.02,1.03,1.04,1.05]\n",
    "# read the relaxed anatase structure and isotropically change the volume\n",
    "###calc = mywrapper.get_calculator(dir=anatase_relax_path)\n",
    "calc = mywrapper.get_calculator(dir=path)\n",
    "if calc is not None:\n",
    "    volumes = []\n",
    "    energies = []\n",
    "\n",
    "    atoms = calc.atoms\n",
    "    cell = np.array(atoms.get_cell())\n",
    "    print(cell)\n",
    "    natom = len(atoms)\n",
    "    for scale in scales:\n",
    "        atoms.set_cell(cell*((scale)**(1/3)))\n",
    "        volumes.append(atoms.get_volume())\n",
    "        path=\"TiO2/Anatase_2/E_1/%f\" %(scale)\n",
    "        cal = ase.calculators.vasp.Vasp(\n",
    "            xc=\"pbe\",\n",
    "            kpts=kgrid,\n",
    "            encut=encut,\n",
    "            ediff=ediff,\n",
    "            algo='fast',\n",
    "            prec='accurate',\n",
    "            nelmin=4,\n",
    "            nelm=100,\n",
    "            ismear=0,\n",
    "            sigma=sigma,\n",
    "            lwave=False,\n",
    "            npar=4,\n",
    " # following are new relaxation-related parameets\n",
    "            nsw=100,\n",
    "            ibrion=2,\n",
    "            isif=4,\n",
    "            ediffg=ediffg, # criterion of 0.1 meV/atom change in energy\n",
    "        )\n",
    "        atoms.set_calculator(cal)\n",
    "        energies.append(mywrapper.get_energy(atoms, dir=path))\n",
    "plt.plot(volumes,energies,'ro-')\n",
    "plt.title(\"Plot volume vs energy\")\n",
    "plt.xlabel(\"energy\")\n",
    "plt.ylabel(\"volume\")\n",
    "plt.show()"
   ]
  },
  {
   "cell_type": "code",
   "execution_count": 55,
   "metadata": {
    "scrolled": true
   },
   "outputs": [],
   "source": [
    "qstat"
   ]
  },
  {
   "cell_type": "markdown",
   "metadata": {},
   "source": [
    "#### get enthapies and pressure"
   ]
  },
  {
   "cell_type": "code",
   "execution_count": 56,
   "metadata": {},
   "outputs": [],
   "source": [
    "anatase_h, anatase_p = get_enthalpy_pressure(volumes, energies)"
   ]
  },
  {
   "cell_type": "code",
   "execution_count": 58,
   "metadata": {},
   "outputs": [
    {
     "data": {
      "text/plain": [
       "[9.393596591802526,\n",
       " 7.581594541822208,\n",
       " 5.776180901457808,\n",
       " 3.977355670710039,\n",
       " 2.1851188495784015,\n",
       " 0.3994704380632514,\n",
       " -1.3795895638357667,\n",
       " -3.1520611561182617,\n",
       " -4.917944338784554,\n",
       " -6.677239111834393,\n",
       " -8.429945475267994]"
      ]
     },
     "execution_count": 58,
     "metadata": {},
     "output_type": "execute_result"
    }
   ],
   "source": [
    "anatase_p"
   ]
  },
  {
   "cell_type": "markdown",
   "metadata": {},
   "source": [
    "### Now repeat for Rutile"
   ]
  },
  {
   "cell_type": "code",
   "execution_count": 59,
   "metadata": {},
   "outputs": [
    {
     "name": "stdout",
     "output_type": "stream",
     "text": [
      "[4.60677734, 4.60677734, 2.99175662]\n"
     ]
    }
   ],
   "source": [
    "rutile = ase.io.read('rutile.cif')\n",
    "rutile_cell = rutile.get_cell()\n",
    "rutile_amag = []\n",
    "# calculate lattice-vector magnitudes in amag; needed for kgrid later\n",
    "#  amag[0] = sqrt(a1_x**2 + a1_y**2 + a1_z**2) and so on for amag[1] and amag[2]\n",
    "for i in range(len(rutile_cell)):\n",
    "    mag = np.sqrt(rutile_cell[i][0]**2+rutile_cell[i][1]**2+rutile_cell[i][2]**2)\n",
    "    rutile_amag.append(mag)\n",
    "    \n",
    "print(rutile_amag)\n"
   ]
  },
  {
   "cell_type": "markdown",
   "metadata": {},
   "source": [
    "#### kgrid-convergence"
   ]
  },
  {
   "cell_type": "code",
   "execution_count": 60,
   "metadata": {},
   "outputs": [
    {
     "data": {
      "image/png": "[encoded data removed]",
      "text/plain": [
       "<Figure size 432x288 with 1 Axes>"
      ]
     },
     "metadata": {
      "needs_background": "light"
     },
     "output_type": "display_data"
    },
    {
     "name": "stdout",
     "output_type": "stream",
     "text": [
      "kpt | dE (meV/atom) | if converged?\n",
      "----------------------------------------\n",
      "  4           6.100     0\n",
      "  6           1.888     1\n",
      "  8           0.336     1\n",
      " 10           0.640     1\n",
      " 12           0.000     1\n"
     ]
    }
   ],
   "source": [
    "# make sure we are in the right path\n",
    "os.chdir(pwd)\n",
    "\n",
    "# normalize global variables by natom\n",
    "ediff = ediff_natom * len(rutile)\n",
    "ediffg = ediffg_natom * len(rutile)\n",
    "threshold_convergence = threshold_convergence_natom * len(rutile)\n",
    "\n",
    "kpts = [4,6,8,10,12]     \n",
    "\n",
    "# note that Rutile cell is not cubic! As such, a1, a2, and a3 are not equal and we need \n",
    "# to be careful to use different number of kpts in b1, b2, and b3 directions, so that \n",
    "# eventually the spacing between kpts in the reciprocal space, i.e. \n",
    "# the product of (amag[i] * kpts[i]),  is same in all three\n",
    "# direction, where amag[i] is the length of lattice vector i and kpts[i] is the number of\n",
    "# kpts in the ith direction\n",
    "\n",
    "energies = []\n",
    "for kpt in kpts:\n",
    "    \n",
    "    # get kpts in three directions\n",
    "    kgrid = [kpt, int(round((kpt * rutile_amag[0])/rutile_amag[1])), \n",
    "                                int(round((kpt * rutile_amag[0])/rutile_amag[2]))]\n",
    "    \n",
    "    path = \"TiO2/rutile/kgrid/%d\" % (kpt)\n",
    "    calc = ase.calculators.vasp.Vasp(\n",
    "            xc=\"pbe\",\n",
    "            kpts=kgrid,\n",
    "            encut=350,\n",
    "            ediff=ediff,\n",
    "            algo='fast',\n",
    "            prec='accurate',\n",
    "            nelmin=4,\n",
    "            nelm=100,\n",
    "            ismear=0,\n",
    "            sigma=0.05,\n",
    "            lwave=False,   \n",
    "            npar=2,  \n",
    "            )\n",
    "    rutile.set_calculator(calc)\n",
    "    energy = mywrapper.get_energy(rutile, dir=path)\n",
    "    energies.append(energy)\n",
    "\n",
    "plt.figure(0)\n",
    "plt.plot(kpts, energies, 'ro-')\n",
    "plt.xlabel('Number of k-points in each dimension')\n",
    "plt.ylabel('Total Energy (eV)')\n",
    "plt.title('kgrid-convergence')\n",
    "plt.show()\n",
    "\n",
    "# check convergence\n",
    "energies = abs(np.array(energies) - energies[-1])\n",
    "print(\"kpt | dE (meV/atom) | if converged?\")\n",
    "print('-'*40)\n",
    "for kpt,e in zip(kpts, energies):\n",
    "    print('%3d %15.3f %5d' % (kpt, 1000*e, e<threshold_convergence)) \n"
   ]
  },
  {
   "cell_type": "markdown",
   "metadata": {},
   "source": [
    "#### encut convergence"
   ]
  },
  {
   "cell_type": "code",
   "execution_count": 61,
   "metadata": {},
   "outputs": [
    {
     "data": {
      "image/png": "[encoded data removed]",
      "text/plain": [
       "<Figure size 432x288 with 1 Axes>"
      ]
     },
     "metadata": {
      "needs_background": "light"
     },
     "output_type": "display_data"
    },
    {
     "name": "stdout",
     "output_type": "stream",
     "text": [
      "encut (eV) | dE (meV/atom) | if converged?\n",
      "----------------------------------------\n",
      "      250         218.533     0\n",
      "      300          99.847     0\n",
      "      350          29.649     0\n",
      "      400          12.369     0\n",
      "      450           1.469     0\n",
      "      500           1.566     0\n",
      "      550           1.322     0\n",
      "      600           0.000     1\n"
     ]
    }
   ],
   "source": [
    "# make sure we are in the right path\n",
    "os.chdir(pwd)\n",
    "\n",
    "encuts = [250,300,350,400,450,500,550,600]\n",
    "energies = []\n",
    "\n",
    "for encut in encuts:\n",
    "    \n",
    "    # dir-name for this encut calculation\n",
    "    path = 'TiO2/rutile/encut_r/%d' % (encut)\n",
    "    \n",
    "    # set basic calculator\n",
    "    calc = ase.calculators.vasp.Vasp(\n",
    "            xc=\"pbe\",\n",
    "        \n",
    "            '''\n",
    "            [-2] did not initialize kpt!\n",
    "            '''\n",
    "            kpts=[kpt, int(round((kpt * rutile_amag[0])/rutile_amag[1])), \n",
    "                                int(round((kpt * rutile_amag[0])/rutile_amag[2]))],\n",
    "            encut=encut,\n",
    "            ediff=ediff,\n",
    "            algo='fast',\n",
    "            prec='accurate',\n",
    "            nelmin=4,\n",
    "            nelm=100,\n",
    "            ismear=0,\n",
    "            sigma=0.05,\n",
    "            lwave=False,            \n",
    "            )\n",
    "    \n",
    "    rutile.set_calculator(calc)\n",
    "    energy = mywrapper.get_energy(rutile, dir=path)\n",
    "    energies.append(energy)\n",
    "    \n",
    "    \n",
    "plt.figure(1)\n",
    "plt.semilogx(encuts, energies, 'ro-')\n",
    "plt.xlabel('Planewave Energy Cutoff (eV)')\n",
    "plt.ylabel('Total Energy (eV)')\n",
    "plt.title('encut-convergence')\n",
    "plt.show()\n",
    "\n",
    "# convert energies to meV/atom\n",
    "natom = len(rutile.get_positions())\n",
    "energies = abs(1000*(np.array(energies) - energies[-1])/natom)\n",
    "print(\"encut (eV) | dE (meV/atom) | if converged?\")\n",
    "print('-'*40)\n",
    "for encut,e in zip(encuts, energies):\n",
    "    print('%9d %15.3f %5d' % (encut, e, e<threshold_convergence))\n",
    "    \n",
    "'''\n",
    "[-2]: seem sthat encut is not converged! should have increased the range!\n",
    "'''"
   ]
  },
  {
   "cell_type": "markdown",
   "metadata": {},
   "source": [
    "#### sigma convergence"
   ]
  },
  {
   "cell_type": "code",
   "execution_count": 62,
   "metadata": {},
   "outputs": [
    {
     "data": {
      "image/png": "[encoded data removed]",
      "text/plain": [
       "<Figure size 432x288 with 1 Axes>"
      ]
     },
     "metadata": {
      "needs_background": "light"
     },
     "output_type": "display_data"
    },
    {
     "name": "stdout",
     "output_type": "stream",
     "text": [
      "sigma (eV) | dE (meV/atom) | if converged?\n",
      "----------------------------------------\n",
      "    0.100           0.000     1\n",
      "    0.050           0.000     1\n",
      "    0.010           0.000     1\n",
      "    0.005           0.000     1\n",
      "    0.001           0.000     1\n"
     ]
    }
   ],
   "source": [
    "# make sure we are in the right path\n",
    "os.chdir(pwd)\n",
    "\n",
    "sigmas = [0.10, 0.05, 0.01, 0.005, 0.001]\n",
    "energies = []\n",
    "\n",
    "for sigma in sigmas:\n",
    "    \n",
    "    # dir-name for this kpt calculation\n",
    "    path = 'TiO2/rutile/sigma_r/%d' % (int(1000*sigma))\n",
    "    \n",
    "    # set basic calculator\n",
    "    calc = ase.calculators.vasp.Vasp(\n",
    "            xc=\"pbe\",\n",
    "            kpts=[kpt, int(round((kpt * rutile_amag[0])/rutile_amag[1])), \n",
    "                                int(round((kpt * rutile_amag[0])/rutile_amag[2]))],\n",
    "            encut=500,\n",
    "            ediff=ediff,\n",
    "            algo='fast',\n",
    "            prec='accurate',\n",
    "            nelmin=4,\n",
    "            nelm=100,\n",
    "            ismear=0,\n",
    "            sigma=sigma,\n",
    "            lwave=False,\n",
    "            )\n",
    "    \n",
    "    rutile.set_calculator(calc)\n",
    "    energy = mywrapper.get_energy(rutile, dir=path)\n",
    "    energies.append(energy)\n",
    "    \n",
    "plt.figure(2)\n",
    "plt.semilogx(sigmas, energies, 'ro-')\n",
    "plt.xlabel('sigma (eV)')\n",
    "plt.ylabel('Total Energy (eV)')\n",
    "plt.title('sigma-convergence')\n",
    "plt.show()    \n",
    "\n",
    "# convert energies to meV/atom\n",
    "natom = len(rutile.get_positions())\n",
    "energies = abs(1000* (np.array(energies) - energies[-1])/natom)\n",
    "print(\"sigma (eV) | dE (meV/atom) | if converged?\")\n",
    "print('-'*40)\n",
    "for sigma,e in zip(sigmas, energies):\n",
    "    print('%9.3f %15.3f %5d' % (sigma, e, e<threshold_convergence))"
   ]
  },
  {
   "cell_type": "markdown",
   "metadata": {},
   "source": [
    "#### structure relaxation"
   ]
  },
  {
   "cell_type": "code",
   "execution_count": 63,
   "metadata": {},
   "outputs": [
    {
     "name": "stdout",
     "output_type": "stream",
     "text": [
      "Stress-Tensor (GPa):  [ 0.008584  0.008584 -0.041211 -0.       -0.       -0.      ]\n",
      "\n",
      "Atomic-Symbol | position (A) | force (eV/A)\n",
      "---------------------------------------------\n",
      "Ti [0. 0. 0.] [ 0. -0. -0.]\n",
      "Ti [2.33071374 2.33071374 1.48405024] [ 0. -0. -0.]\n",
      "O [3.24147276 3.24147276 0.        ] [-0.002 -0.002 -0.   ]\n",
      "O [1.41995472 1.41995472 0.        ] [0.002 0.002 0.   ]\n",
      "O [0.91075902 3.75066846 1.48405024] [-0.002  0.002  0.   ]\n",
      "O [3.75066846 0.91075902 1.48405024] [ 0.002 -0.002 -0.   ]\n",
      "\n",
      "Lattice-vectors:\n",
      " [[ 4.66142748 -0.          0.        ]\n",
      " [-0.          4.66142748  0.        ]\n",
      " [ 0.          0.          2.96810047]]\n"
     ]
    }
   ],
   "source": [
    "# make sure we are in the right path\n",
    "os.chdir(pwd)\n",
    "rutile_relax_path = 'structure_relax_rutile/vasp_relax/'\n",
    "\n",
    "energies = []\n",
    "calc = ase.calculators.vasp.Vasp(\n",
    "        xc=\"pbe\",\n",
    "        kpts=[kpt, int(round((kpt * rutile_amag[0])/rutile_amag[1])), \n",
    "                            int(round((kpt * rutile_amag[0])/rutile_amag[2]))],\n",
    "        encut=encut,\n",
    "        ediff=ediff,\n",
    "        algo='fast',\n",
    "        prec='accurate',\n",
    "        nelmin=4,\n",
    "        nelm=100,\n",
    "        ismear=0,\n",
    "        sigma=0.05,\n",
    "        lwave=False, \n",
    "        nsw=100,\n",
    "        ibrion=2,\n",
    "        isif=3,\n",
    "        ediffg=ediffg,  # criterion of 0.1 meV/atom change in energy \n",
    "        )\n",
    "    \n",
    "rutile.set_calculator(calc)\n",
    "energy = mywrapper.get_energy(rutile, dir=rutile_relax_path)\n",
    "calc = mywrapper.get_calculator(dir=rutile_relax_path)\n",
    "\n",
    "if calc is not None:\n",
    "    atoms = calc.atoms\n",
    "    print('Stress-Tensor (GPa): ', calc.stress/ase.units.GPa)\n",
    "    forces = calc.forces\n",
    "    print('\\nAtomic-Symbol | position (A) | force (eV/A)')\n",
    "    print('-'*45)\n",
    "    for i, atom in enumerate(atoms):\n",
    "        print(atom.symbol, atom.position, forces[i])\n",
    "\n",
    "    print(\"\\nLattice-vectors:\\n\", atoms.get_cell())\n",
    "    "
   ]
  },
  {
   "cell_type": "markdown",
   "metadata": {},
   "source": [
    "#### isotropic volume change and pressure calculation"
   ]
  },
  {
   "cell_type": "code",
   "execution_count": 64,
   "metadata": {},
   "outputs": [
    {
     "data": {
      "image/png": "[encoded data removed]",
      "text/plain": [
       "<Figure size 432x288 with 1 Axes>"
      ]
     },
     "metadata": {
      "needs_background": "light"
     },
     "output_type": "display_data"
    }
   ],
   "source": [
    "# make sure we are in the right path\n",
    "os.chdir(pwd)\n",
    "rutile_relax_path = 'structure_relax_rutile/vasp_relax/'\n",
    "\n",
    "# volumes to scale by\n",
    "scales = [0.95,0.96,0.97,0.98,0.99,1.0,1.01,1.02,1.03,1.04,1.05]\n",
    "\n",
    "# read the relaxed anatase structure and isotropically change the volume\n",
    "calc = mywrapper.get_calculator(dir=rutile_relax_path)\n",
    "if calc is not None:\n",
    "    volumes = []\n",
    "    energies = []\n",
    "    \n",
    "    atoms = calc.atoms\n",
    "    cell = np.array(atoms.get_cell())\n",
    "    natom = len(atoms)\n",
    "    \n",
    "    for scale in scales:\n",
    "        atoms.set_cell(cell*((scale)**(1/3)))\n",
    "        volumes.append(atoms.get_volume())\n",
    "        path=\"TiO2/Rutile_2/E_1/%f\" %(scale)\n",
    "        cal = ase.calculators.vasp.Vasp(\n",
    "            xc=\"pbe\",\n",
    "            kpts=[kpt, int(round((kpt * rutile_amag[0])/rutile_amag[1])), \n",
    "                                int(round((kpt * rutile_amag[0])/rutile_amag[2]))],\n",
    "            encut=encut,\n",
    "            ediff=ediff,\n",
    "            algo='fast',\n",
    "            prec='accurate',\n",
    "            nelmin=4,\n",
    "            nelm=100,\n",
    "            ismear=0,\n",
    "            sigma=sigma,\n",
    "            lwave=False,\n",
    "            npar=4, \n",
    "            nsw=100,\n",
    "            ibrion=2,\n",
    "            isif=4,\n",
    "            ediffg=ediffg,\n",
    "        )\n",
    "        atoms.set_calculator(cal)\n",
    "        energies.append(mywrapper.get_energy(atoms, dir=path))\n",
    "plt.plot(volumes,energies,'ro-')\n",
    "plt.title(\"Plot volume vs energy\")\n",
    "plt.xlabel(\"energy\")\n",
    "plt.ylabel(\"volume\")\n",
    "plt.show() \n"
   ]
  },
  {
   "cell_type": "code",
   "execution_count": 66,
   "metadata": {},
   "outputs": [],
   "source": [
    "rutile_h, rutile_p = get_enthalpy_pressure(volumes, energies)\n"
   ]
  },
  {
   "cell_type": "code",
   "execution_count": 67,
   "metadata": {},
   "outputs": [
    {
     "data": {
      "text/plain": [
       "[-47.61542602081062,\n",
       " -48.73710066067038,\n",
       " -49.80950865978356,\n",
       " -50.824058524304,\n",
       " -51.77933027038551,\n",
       " -52.67400046418191,\n",
       " -53.506720891846975,\n",
       " -54.27616959953457,\n",
       " -54.981008663398484,\n",
       " -55.61981021959257,\n",
       " -56.19702228427068]"
      ]
     },
     "execution_count": 67,
     "metadata": {},
     "output_type": "execute_result"
    }
   ],
   "source": [
    "rutile_h"
   ]
  },
  {
   "cell_type": "code",
   "execution_count": 68,
   "metadata": {},
   "outputs": [
    {
     "data": {
      "text/plain": [
       "[13.294181827131277,\n",
       " 10.363772226357975,\n",
       " 7.607577050095338,\n",
       " 5.025596298343365,\n",
       " 2.617829971102057,\n",
       " 0.3842780683714135,\n",
       " -1.6750594098484228,\n",
       " -3.5601824635575947,\n",
       " -5.271091092755959,\n",
       " -6.807785297443659,\n",
       " -8.170265077620694]"
      ]
     },
     "execution_count": 68,
     "metadata": {},
     "output_type": "execute_result"
    }
   ],
   "source": [
    " rutile_p"
   ]
  },
  {
   "cell_type": "code",
   "execution_count": 69,
   "metadata": {},
   "outputs": [
    {
     "data": {
      "image/png": "[encoded data removed]",
      "text/plain": [
       "<Figure size 432x288 with 1 Axes>"
      ]
     },
     "metadata": {
      "needs_background": "light"
     },
     "output_type": "display_data"
    }
   ],
   "source": [
    "# plot now\n",
    "plt.figure(0)\n",
    "plt.plot(anatase_p,anatase_h,'ro-',rutile_p,rutile_h,'ko-')\n",
    "plt.title(\"Plot Pressure vs Enthapy\")\n",
    "plt.xlabel(\"pressure\")\n",
    "plt.ylabel(\"enthalpy\")\n",
    "plt.legend(['Anatase','Rutile'])\n",
    "plt.grid()\n",
    "plt.show()\n",
    "\n",
    "'''\n",
    "[-4] units of x/y axis?\n",
    "'''"
   ]
  },
  {
   "cell_type": "code",
   "execution_count": 86,
   "metadata": {},
   "outputs": [
    {
     "data": {
      "image/png": "[encoded data removed]",
      "text/plain": [
       "<Figure size 432x288 with 1 Axes>"
      ]
     },
     "metadata": {
      "needs_background": "light"
     },
     "output_type": "display_data"
    }
   ],
   "source": [
    "# zoom-in\n",
    "plt.figure(1)\n",
    "plt.plot(anatase_p,anatase_h,'ro-',rutile_p,rutile_h,'ko-')\n",
    "plt.title(\"Plot Pressure vs Enthapy\")\n",
    "plt.xlabel(\"pressure\")\n",
    "plt.ylabel(\"enthalpy\")\n",
    "plt.legend(['Anatase','Rutile'])\n",
    "plt.ylim([-52,-50])\n",
    "plt.xlim([3,6])\n",
    "plt.show()"
   ]
  },
  {
   "cell_type": "code",
   "execution_count": 1,
   "metadata": {},
   "outputs": [
    {
     "name": "stdout",
     "output_type": "stream",
     "text": [
      "Anatase is more stable at pressure=0\n",
      "Phase change occured at pressure = 4 Gpa\n"
     ]
    }
   ],
   "source": [
    "print('Anatase is more stable at pressure=0')\n",
    "print(\"Phase change occured at pressure = 4 Gpa\")"
   ]
  },
  {
   "cell_type": "code",
   "execution_count": null,
   "metadata": {},
   "outputs": [],
   "source": [
    "Total: -14"
   ]
  }
 ],
 "metadata": {
  "kernelspec": {
   "display_name": "Python 3",
   "language": "python",
   "name": "python3"
  },
  "language_info": {
   "codemirror_mode": {
    "name": "ipython",
    "version": 3
   },
   "file_extension": ".py",
   "mimetype": "text/x-python",
   "name": "python",
   "nbconvert_exporter": "python",
   "pygments_lexer": "ipython3",
   "version": "3.6.8"
  }
 },
 "nbformat": 4,
 "nbformat_minor": 2
}
