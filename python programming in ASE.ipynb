{
 "cells": [
  {
   "cell_type": "markdown",
   "metadata": {},
   "source": [
    "### General Instructions: \n",
    "- Due Date: Friday Jan 31, 5 PM \n",
    "- Submission: Please work on this Notebook and leave it in your account on the server. We have a crontab job which will copy your submission Notebook from your account at sharp 5 PM on Friday, Jan 31. Any changes made to Notebook after 5 PM, Friday, Jan 31 will not be reflected in the submitted assignment. DO NOT change the name or location of this file on the server.\n",
    "- __Plagiarism will not be tolerated in any form. Zero points will be awarded for the entire assignment in such cases__."
   ]
  },
  {
   "cell_type": "raw",
   "metadata": {},
   "source": [
    "Question 1: \n",
    "Total: 10 points\n",
    "Topic: functions and conditions/loops"
   ]
  },
  {
   "cell_type": "code",
   "execution_count": 3,
   "metadata": {},
   "outputs": [
    {
     "name": "stdout",
     "output_type": "stream",
     "text": [
      "Error\n"
     ]
    }
   ],
   "source": [
    "# Answer 1:\n",
    "import numpy as np\n",
    "def get_fibonacci_term(n):\n",
    "    '''\n",
    "    Description: function to calucalte n-th term of the fibonacci sequence\n",
    "    Input: n: term to calculate. \n",
    "           - The indexing will start from 1. So the first term is 1, \n",
    "           2nd is 1, 3rd is 2, 4th is 3, and so on.\n",
    "           - implement a test to make sure that n >= 1 inside the function. \n",
    "           - if n <=0, print an error message     \n",
    "    Output: term: value corresponding to the nth term\n",
    "    '''\n",
    "    \n",
    "    # write your code here\n",
    "    a = 0\n",
    "    if n <= 0:\n",
    "        print(\"Error\")    \n",
    "    elif n>=1:\n",
    "        b = np.zeros(n+1)\n",
    "        if a == 0:\n",
    "            a = a+1\n",
    "            b[1] = a\n",
    "        for i in np.arange(2,n+1):\n",
    "                b[i] = b[i-1] + b[i-2]\n",
    "        return  b[n] #print(b[n]) -0.5\n",
    "get_fibonacci_term(12)\n",
    "get_fibonacci_term(-12)"
   ]
  },
  {
   "cell_type": "code",
   "execution_count": 4,
   "metadata": {},
   "outputs": [
    {
     "name": "stdout",
     "output_type": "stream",
     "text": [
      "1.0\n",
      "1.0\n",
      "2.0\n",
      "3.0\n",
      "5.0\n",
      "8.0\n",
      "13.0\n",
      "21.0\n",
      "34.0\n",
      "55.0\n",
      "89.0\n",
      "144.0\n",
      "233.0\n",
      "377.0\n"
     ]
    }
   ],
   "source": [
    "for j in range(1,15):\n",
    "    print(get_fibonacci_term(j))"
   ]
  },
  {
   "cell_type": "raw",
   "metadata": {},
   "source": [
    "Question 2: \n",
    "Total: 15 points\n",
    "For a hypothetical diatomic gas, X2, the energy of a molecule is a function of bond-length, r, and is given by: E(r) = r^2 - 5*r + 6\n",
    "- (a) [5 points] Using numpy, create a vector/array with 100 points between r=1 and r=4 (both inclusive) and calculate the energy of molecule for each of these 100 bond-lengths\n",
    "- (b) [5 points] Plot E(r) vs r for 1<=r<=4 using matplotlib\n",
    "- (d) [5 points] Use numpy to find at what bond-length [between 1 and 4], the minimum in energy is obtained\n",
    "\n",
    "- Your program should print r and E(r) from part(a) in a nice readable form: \n",
    "  - similar to a tabular form with col-1 being r and col-2 being E(r); \n",
    "  - one entry of r, E(r) on each line\n",
    "- Your program should plot the required graph of part(b) using black symbols and dashed line with proper x- and y-axis labels, and title of the plot.\n",
    "- Your program should print the bond-length obtained in the part(d).    "
   ]
  },
  {
   "cell_type": "code",
   "execution_count": 12,
   "metadata": {},
   "outputs": [
    {
     "data": {
      "image/png": "[encoded data removed]",
      "text/plain": [
       "<Figure size 432x288 with 1 Axes>"
      ]
     },
     "metadata": {
      "needs_background": "light"
     },
     "output_type": "display_data"
    },
    {
     "name": "stdout",
     "output_type": "stream",
     "text": [
      "Bond_length at Min energy =  2.5\n",
      "           r      E(r)\n",
      "0   1.000000  2.000000\n",
      "1   1.030303  1.910009\n",
      "2   1.060606  1.821855\n",
      "3   1.090909  1.735537\n",
      "4   1.121212  1.651056\n",
      "5   1.151515  1.568411\n",
      "6   1.181818  1.487603\n",
      "7   1.212121  1.408632\n",
      "8   1.242424  1.331497\n",
      "9   1.272727  1.256198\n",
      "10  1.303030  1.182736\n",
      "11  1.333333  1.111111\n",
      "12  1.363636  1.041322\n",
      "13  1.393939  0.973370\n",
      "14  1.424242  0.907254\n",
      "15  1.454545  0.842975\n",
      "16  1.484848  0.780533\n",
      "17  1.515152  0.719927\n",
      "18  1.545455  0.661157\n",
      "19  1.575758  0.604224\n",
      "20  1.606061  0.549128\n",
      "21  1.636364  0.495868\n",
      "22  1.666667  0.444444\n",
      "23  1.696970  0.394858\n",
      "24  1.727273  0.347107\n",
      "25  1.757576  0.301194\n",
      "26  1.787879  0.257117\n",
      "27  1.818182  0.214876\n",
      "28  1.848485  0.174472\n",
      "29  1.878788  0.135904\n",
      "..       ...       ...\n",
      "70  3.121212  0.135904\n",
      "71  3.151515  0.174472\n",
      "72  3.181818  0.214876\n",
      "73  3.212121  0.257117\n",
      "74  3.242424  0.301194\n",
      "75  3.272727  0.347107\n",
      "76  3.303030  0.394858\n",
      "77  3.333333  0.444444\n",
      "78  3.363636  0.495868\n",
      "79  3.393939  0.549128\n",
      "80  3.424242  0.604224\n",
      "81  3.454545  0.661157\n",
      "82  3.484848  0.719927\n",
      "83  3.515152  0.780533\n",
      "84  3.545455  0.842975\n",
      "85  3.575758  0.907254\n",
      "86  3.606061  0.973370\n",
      "87  3.636364  1.041322\n",
      "88  3.666667  1.111111\n",
      "89  3.696970  1.182736\n",
      "90  3.727273  1.256198\n",
      "91  3.757576  1.331497\n",
      "92  3.787879  1.408632\n",
      "93  3.818182  1.487603\n",
      "94  3.848485  1.568411\n",
      "95  3.878788  1.651056\n",
      "96  3.909091  1.735537\n",
      "97  3.939394  1.821855\n",
      "98  3.969697  1.910009\n",
      "99  4.000000  2.000000\n",
      "\n",
      "[100 rows x 2 columns]\n"
     ]
    }
   ],
   "source": [
    "# Answer 2:\n",
    "import numpy as np\n",
    "import matplotlib.pyplot as plt\n",
    "import pandas as pd\n",
    "from scipy import optimize\n",
    "r = np.linspace( 1, 4, 100 )\n",
    "E = np.zeros(100)\n",
    "table = []\n",
    "for i in np.arange(100):\n",
    "    E[i] = r[i]**2 - 5*r[i] + 6\n",
    "table = pd.DataFrame({'r': r,'E(r)': E})\n",
    "plt.plot(r, E, 'k--', linewidth=1.0)\n",
    "plt.title('Plot E(r) vs r ')\n",
    "plt.xlabel('Bond-Length(r)')\n",
    "plt.ylabel(\"Energy of molecule E(r)\")\n",
    "plt.grid()                                               \n",
    "plt.show()\n",
    "def f(x):\n",
    "    return  x**2 - 5*x + 6\n",
    "result = optimize.minimize_scalar(f)\n",
    "result.success \n",
    "Bond_length = result.x\n",
    "print('Bond_length at Min energy = ',Bond_length )\n",
    "print(table)"
   ]
  },
  {
   "cell_type": "raw",
   "metadata": {},
   "source": [
    "Question 3: \n",
    "Total: 30 points [15 points for reading xyz file and 15 to write POSCAR file]\n",
    "Topic: disk i/o"
   ]
  },
  {
   "cell_type": "code",
   "execution_count": 34,
   "metadata": {},
   "outputs": [],
   "source": [
    "# Answer 3:\n",
    "\n",
    "import os\n",
    "import numpy as np\n",
    "#xyz_filename = input('File name: ')\n",
    "def from_xyz_to_POSCAR(xyz_filename):\n",
    "    '''\n",
    "    Description: function to read given file (whose filename is given as input) \n",
    "             and convert it into the POSCAR file. \n",
    "        The input file name is passed as an input to function.\n",
    "    Input: xyz_filename; filename of xyz file to read the structure from\n",
    "    Output: Name of the POSCAR file.\n",
    "    '''\n",
    "    with open(xyz_filename, \"r\") as f:\n",
    "        lines = f.readlines()\n",
    "        count = int(lines[0].split()[0])\n",
    "        bad_chars = ['=\"', '\"']\n",
    "        test_string = lines[1]\n",
    "        alat = []\n",
    "        for i in bad_chars : \n",
    "            test_string = test_string.replace(i, ' ') \n",
    "        for i in range(1,10):\n",
    "            carti = test_string.split()[i]\n",
    "            alat.append(float(carti))\n",
    "        alat = np.array(alat)\n",
    "        alat = np.reshape(alat, (3, 3))     \n",
    "        for i in bad_chars : \n",
    "            test_string = test_string.replace(i, ' ') \n",
    "        coord = []\n",
    "        symb = dict()\n",
    "        for i in range(2,(count+2)):\n",
    "            a = lines[i].split()\n",
    "            for j in range(1,4):\n",
    "                coord.append(float(a[j]))\n",
    "                c = np.array(coord)\n",
    "        coord = np.reshape(c, (24, 3)) ### cannot hardcode the values -3\n",
    "        for k in range(2,(count+2)):\n",
    "            b = lines[k].split()[0]\n",
    "            if b in symb:\n",
    "                symb[b] = symb[b] + 1\n",
    "                continue\n",
    "            else:\n",
    "                symb[b] = 1\n",
    "    xyz_POSCAR = \"POSCARe\"#input(\"Output file name: \")  ##------ forgot to put the symbol line -3\n",
    "    with open(xyz_POSCAR, \"w\") as f1:\n",
    "        for atom in symb:\n",
    "            f1.write(\"%s  \" % atom)\n",
    "        f1.write(\"\\n\")\n",
    "        a = 1 #float(input(\"Scale Factor :\"))\n",
    "        f1.write(\"%f\\n\" % a)\n",
    "        #for i in range(3): ###----why this?\n",
    "        for val in symb.values():\n",
    "            f1.write(\"  %d  \" % val )\n",
    "        f1.write(\"\\n\")\n",
    "        #f1.write(\"Cartesian \\n\")\n",
    "        f1.write(\"%s \\n\" % (\"Cartesian\")) \n",
    "        for i in range(count):\n",
    "            f1.write(\"   %f      %f      %f\\n\" % (coord[i][0], coord[i][1], coord[i][2]))\n",
    "    return xyz_POSCAR\n",
    "#from_xyz_to_POSCAR(xyz_filename)\n",
    "## doesnot arrange atoms w.r.t elements if not in order -3\n",
    "## random errors -2"
   ]
  },
  {
   "cell_type": "code",
   "execution_count": 35,
   "metadata": {},
   "outputs": [],
   "source": [
    "#from_xyz_to_POSCAR(\"structure.xyz\")\n",
    "xyz_file = 'structure.xyz'\n",
    "poscar_file = from_xyz_to_POSCAR(xyz_file)\n",
    "\n"
   ]
  },
  {
   "cell_type": "raw",
   "metadata": {},
   "source": [
    "Question 4:\n",
    "Total: 30 points\n",
    "Topic: Pressure and Bulk Modulus from Energies\n",
    "\n",
    "Reference: In lecture-4, we implemented Python code to calculate the energy of LJ FCC-solid [Notebook Name: 9_LJRelaxedLatticeConstant.ipynb]. We used this function to calculate the energy of solid for different lattice constants and used Energy vs lattice ocnstant to identify the relaxed lattice constant of the solid.\n",
    "- (a) [10 points] Use 50 values of lattice constants between 5.1 and 5.4 Angstrom [both inclusive] and calculate the energy corresponding to these lattice constants. Using numpy, fit a cubic polynomial to crystal-volume (from lattice-constant) and energy data that you obtained in part (a). [Hint: look into numpy function polyfit]\n",
    "- (b) [10 points] The pressure is defined as P = -dE/dV at constant temperature. Use numpy function polyder to calculate the pressure at each of the lattice constant of part(a).\n",
    "- (c) [10 points] The bulk modulus can be obtained as B = V*(d2E/dV2) at the relaxed volume. Using numpy,polyfit, numpy.polyder, and numpy.polyval, evaluate the Buld Modulus of FCC-Ar.\n",
    "\n",
    "- For part(a), print the output in a tabular format with col-1 being the lattice constant (in Angstrom) and col-2 being the corresponding energy (in eV)\n",
    "- For part(b), print data in tabular format with col-1 being the lattice constant (in Angstrom) and col-2 being the pressure (in GPa).\n",
    "- For part(c), print the Bulk modulus in GPa.\n",
    "\n",
    "For your convinience, the code to calculate the energy of LJ FCC Ar for given epsilon, sigma, and cutoff is included in the module mywrapper. You can call this function as: \n",
    "\n",
    "import mywrapper\n",
    "epsilon = 1.67e-21\n",
    "sigma = 3.4e-10\n",
    "cutoff = 3.5*sigma\n",
    "alat = 5.0e-10\n",
    "energy = mywrapper.get_LJEnergy(alat, epsilon, sigma, cutoff)\n",
    "\n",
    "Note that the units for length and energy scale in the above function are Meter and Joule."
   ]
  },
  {
   "cell_type": "code",
   "execution_count": 1,
   "metadata": {
    "scrolled": true
   },
   "outputs": [
    {
     "ename": "AttributeError",
     "evalue": "module 'mywrapper' has no attribute 'get_LJEnergy'",
     "output_type": "error",
     "traceback": [
      "\u001b[0;31m---------------------------------------------------------------------------\u001b[0m",
      "\u001b[0;31mAttributeError\u001b[0m                            Traceback (most recent call last)",
      "\u001b[0;32m<ipython-input-1-9ff4892de497>\u001b[0m in \u001b[0;36m<module>\u001b[0;34m\u001b[0m\n\u001b[1;32m     15\u001b[0m \u001b[0mEnergy\u001b[0m \u001b[0;34m=\u001b[0m \u001b[0;34m[\u001b[0m\u001b[0;34m]\u001b[0m\u001b[0;34m\u001b[0m\u001b[0;34m\u001b[0m\u001b[0m\n\u001b[1;32m     16\u001b[0m \u001b[0;32mfor\u001b[0m \u001b[0ma\u001b[0m \u001b[0;32min\u001b[0m \u001b[0malats\u001b[0m\u001b[0;34m:\u001b[0m\u001b[0;34m\u001b[0m\u001b[0;34m\u001b[0m\u001b[0m\n\u001b[0;32m---> 17\u001b[0;31m     \u001b[0menergy\u001b[0m \u001b[0;34m=\u001b[0m \u001b[0mmywrapper\u001b[0m\u001b[0;34m.\u001b[0m\u001b[0mget_LJEnergy\u001b[0m\u001b[0;34m(\u001b[0m\u001b[0ma\u001b[0m\u001b[0;34m,\u001b[0m \u001b[0mepsilon\u001b[0m\u001b[0;34m,\u001b[0m \u001b[0msigma\u001b[0m\u001b[0;34m,\u001b[0m \u001b[0mcutoff\u001b[0m\u001b[0;34m)\u001b[0m\u001b[0;34m\u001b[0m\u001b[0;34m\u001b[0m\u001b[0m\n\u001b[0m\u001b[1;32m     18\u001b[0m     \u001b[0mE\u001b[0m\u001b[0;34m.\u001b[0m\u001b[0mappend\u001b[0m\u001b[0;34m(\u001b[0m\u001b[0menergy\u001b[0m\u001b[0;34m)\u001b[0m\u001b[0;34m\u001b[0m\u001b[0;34m\u001b[0m\u001b[0m\n\u001b[1;32m     19\u001b[0m     \u001b[0mEeV\u001b[0m \u001b[0;34m=\u001b[0m \u001b[0menergy\u001b[0m\u001b[0;34m/\u001b[0m\u001b[0;34m(\u001b[0m\u001b[0;36m1.60218e-19\u001b[0m\u001b[0;34m)\u001b[0m\u001b[0;34m\u001b[0m\u001b[0;34m\u001b[0m\u001b[0m\n",
      "\u001b[0;31mAttributeError\u001b[0m: module 'mywrapper' has no attribute 'get_LJEnergy'"
     ]
    }
   ],
   "source": [
    "# Answer 4:\n",
    "import numpy as np\n",
    "import mywrapper\n",
    "import warnings\n",
    "import pandas as pd\n",
    "import matplotlib.pyplot as plt\n",
    "\n",
    "epsilon = 1.67e-21\n",
    "sigma = 3.4e-10\n",
    "cutoff = 3.5*sigma\n",
    "alat  = np.linspace( 5.1, 5.4, 50 )\n",
    "alats = np.linspace( 5.1, 5.4, 50 )*1e-10\n",
    "V = alats**3\n",
    "E = []\n",
    "Energy = []\n",
    "for a in alats:\n",
    "    energy = mywrapper.get_LJEnergy(a, epsilon, sigma, cutoff)\n",
    "    E.append(energy)\n",
    "    EeV = energy/(1.60218e-19)\n",
    "    Energy.append(EeV)\n",
    "    \n",
    "table_latconstvsE= pd.DataFrame({'lattice constant(Angstrom)': alat,'Energy(eV)': Energy})\n",
    "c = np.polyfit(V, E, 3)\n",
    "Eq = np.poly1d(c)\n",
    "P = -1*np.polyder(Eq)\n",
    "Pressure = []\n",
    "for i in V:\n",
    "    P_GPa = P(i)*1e-9\n",
    "    Pressure.append(P_GPa)\n",
    "table_latconstvsP = pd.DataFrame({'lattice constant(Angstrom)': alat,'Pressure(GPa)': Pressure})\n",
    "U1= np.polyder(Eq,2) ##U1\n",
    "H = V[np.argmin(E)]\n",
    "print('relaxed volume: ',H)\n",
    "Bulk_modulus = H * (U1(H))\n",
    "Bulk_modulus = Bulk_modulus*1e-9\n",
    "print(\"Bulk modulus: \",Bulk_modulus)\n",
    "print(table_latconstvsE)\n",
    "print(table_latconstvsP)\n"
   ]
  },
  {
   "cell_type": "code",
   "execution_count": 27,
   "metadata": {},
   "outputs": [
    {
     "name": "stdout",
     "output_type": "stream",
     "text": [
      "73.5\n"
     ]
    }
   ],
   "source": [
    "a = 9.5\n",
    "b = 15\n",
    "c = 12 + 7\n",
    "d = 10+10+10 \n",
    "k = a+b+c+d\n",
    "print(k)"
   ]
  },
  {
   "cell_type": "code",
   "execution_count": null,
   "metadata": {},
   "outputs": [],
   "source": [
    "\n"
   ]
  },
  {
   "cell_type": "code",
   "execution_count": null,
   "metadata": {},
   "outputs": [],
   "source": []
  },
  {
   "cell_type": "code",
   "execution_count": null,
   "metadata": {},
   "outputs": [],
   "source": []
  },
  {
   "cell_type": "code",
   "execution_count": null,
   "metadata": {},
   "outputs": [],
   "source": []
  },
  {
   "cell_type": "code",
   "execution_count": null,
   "metadata": {},
   "outputs": [],
   "source": []
  },
  {
   "cell_type": "code",
   "execution_count": null,
   "metadata": {},
   "outputs": [],
   "source": []
  },
  {
   "cell_type": "code",
   "execution_count": null,
   "metadata": {},
   "outputs": [],
   "source": []
  }
 ],
 "metadata": {
  "kernelspec": {
   "display_name": "Python 3",
   "language": "python",
   "name": "python3"
  },
  "language_info": {
   "codemirror_mode": {
    "name": "ipython",
    "version": 3
   },
   "file_extension": ".py",
   "mimetype": "text/x-python",
   "name": "python",
   "nbconvert_exporter": "python",
   "pygments_lexer": "ipython3",
   "version": "3.6.8"
  }
 },
 "nbformat": 4,
 "nbformat_minor": 2
}
